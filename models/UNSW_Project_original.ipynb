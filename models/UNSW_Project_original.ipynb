{
  "cells": [
    {
      "cell_type": "markdown",
      "metadata": {
        "id": "A7Ap-HGmbn6t"
      },
      "source": [
        "# **Importing Modules and Libraries**"
      ]
    },
    {
      "cell_type": "code",
      "execution_count": 1,
      "metadata": {
        "id": "ZEmlR_A8Gy30"
      },
      "outputs": [],
      "source": [
        "import numpy as np\n",
        "import pandas as pd\n",
        "\n",
        "import seaborn as sns\n",
        "import matplotlib.pyplot as plt\n",
        "\n",
        "import pickle \n",
        "from os import path\n",
        "\n",
        "from sklearn.preprocessing import MinMaxScaler\n",
        "from sklearn.preprocessing import StandardScaler\n",
        "from sklearn.preprocessing import LabelEncoder\n",
        "\n",
        "from sklearn import metrics\n",
        "from sklearn import preprocessing\n",
        "from sklearn.metrics import accuracy_score\n",
        "from sklearn.model_selection import train_test_split \n",
        "from sklearn.metrics import classification_report\n",
        "\n",
        "from sklearn.svm import SVC\n",
        "from sklearn.linear_model import LinearRegression\n",
        "from sklearn.linear_model import LogisticRegression\n",
        "from sklearn.tree import DecisionTreeClassifier\n",
        "from sklearn.ensemble import RandomForestClassifier\n",
        "from sklearn.neighbors import KNeighborsClassifier\n",
        "from sklearn.neural_network import MLPClassifier"
      ]
    },
    {
      "cell_type": "markdown",
      "metadata": {
        "id": "QE9BV5QvbtmO"
      },
      "source": [
        "# **Importing Datasets**"
      ]
    },
    {
      "cell_type": "code",
      "execution_count": 2,
      "metadata": {},
      "outputs": [],
      "source": [
        "pd.set_option('display.max_columns', None) #display all columns"
      ]
    },
    {
      "cell_type": "code",
      "execution_count": 3,
      "metadata": {
        "id": "e6PZCWoDG9uO"
      },
      "outputs": [
        {
          "name": "stderr",
          "output_type": "stream",
          "text": [
            "C:\\Users\\hhi20\\AppData\\Local\\Temp\\ipykernel_50808\\1494376972.py:4: DtypeWarning: Columns (1,3,47) have mixed types. Specify dtype option on import or set low_memory=False.\n",
            "  d1 = pd.read_csv('./CSV/UNSW-NB15_1.csv')\n",
            "C:\\Users\\hhi20\\AppData\\Local\\Temp\\ipykernel_50808\\1494376972.py:5: DtypeWarning: Columns (3,39,47) have mixed types. Specify dtype option on import or set low_memory=False.\n",
            "  d2 = pd.read_csv('./CSV/UNSW-NB15_2.csv')\n"
          ]
        }
      ],
      "source": [
        "# dtrain = pd.read_csv('./CSV/UNSW_NB15_testing-set.csv')\n",
        "# dtest = pd.read_csv('./CSV/UNSW_NB15_training-set.csv')\n",
        "\n",
        "d1 = pd.read_csv('./CSV/UNSW-NB15_1.csv')\n",
        "d2 = pd.read_csv('./CSV/UNSW-NB15_2.csv')\n",
        "d3 = pd.read_csv('./CSV/UNSW-NB15_3.csv')\n",
        "d4 = pd.read_csv('./CSV/UNSW-NB15_4.csv')\n",
        "\n",
        "# data = pd.concat([dtrain, dtest], ignore_index=True)\n",
        "\n",
        "data = pd.concat([d1, d2, d3, d4], ignore_index=True)"
      ]
    },
    {
      "cell_type": "code",
      "execution_count": 4,
      "metadata": {},
      "outputs": [
        {
          "name": "stdout",
          "output_type": "stream",
          "text": [
            "<class 'pandas.core.frame.DataFrame'>\n",
            "RangeIndex: 2540047 entries, 0 to 2540046\n",
            "Data columns (total 49 columns):\n",
            " #   Column            Dtype  \n",
            "---  ------            -----  \n",
            " 0   srcip             object \n",
            " 1   sport             object \n",
            " 2   dstip             object \n",
            " 3   dsport            object \n",
            " 4   proto             object \n",
            " 5   state             object \n",
            " 6   dur               float64\n",
            " 7   sbytes            int64  \n",
            " 8   dbytes            int64  \n",
            " 9   sttl              int64  \n",
            " 10  dttl              int64  \n",
            " 11  sloss             int64  \n",
            " 12  dloss             int64  \n",
            " 13  service           object \n",
            " 14  Sload             float64\n",
            " 15  Dload             float64\n",
            " 16  Spkts             int64  \n",
            " 17  Dpkts             int64  \n",
            " 18  swin              int64  \n",
            " 19  dwin              int64  \n",
            " 20  stcpb             int64  \n",
            " 21  dtcpb             int64  \n",
            " 22  smeansz           int64  \n",
            " 23  dmeansz           int64  \n",
            " 24  trans_depth       int64  \n",
            " 25  res_bdy_len       int64  \n",
            " 26  Sjit              float64\n",
            " 27  Djit              float64\n",
            " 28  Stime             int64  \n",
            " 29  Ltime             int64  \n",
            " 30  Sintpkt           float64\n",
            " 31  Dintpkt           float64\n",
            " 32  tcprtt            float64\n",
            " 33  synack            float64\n",
            " 34  ackdat            float64\n",
            " 35  is_sm_ips_ports   int64  \n",
            " 36  ct_state_ttl      int64  \n",
            " 37  ct_flw_http_mthd  float64\n",
            " 38  is_ftp_login      float64\n",
            " 39  ct_ftp_cmd        object \n",
            " 40  ct_srv_src        int64  \n",
            " 41  ct_srv_dst        int64  \n",
            " 42  ct_dst_ltm        int64  \n",
            " 43  ct_src_ltm        int64  \n",
            " 44  ct_src_dport_ltm  int64  \n",
            " 45  ct_dst_sport_ltm  int64  \n",
            " 46  ct_dst_src_ltm    int64  \n",
            " 47  attack_cat        object \n",
            " 48  label             int64  \n",
            "dtypes: float64(12), int64(28), object(9)\n",
            "memory usage: 949.6+ MB\n"
          ]
        }
      ],
      "source": [
        "data.info()"
      ]
    },
    {
      "cell_type": "code",
      "execution_count": 5,
      "metadata": {},
      "outputs": [
        {
          "data": {
            "text/plain": [
              "label\n",
              "0    2218764\n",
              "1     321283\n",
              "Name: count, dtype: int64"
            ]
          },
          "execution_count": 5,
          "metadata": {},
          "output_type": "execute_result"
        }
      ],
      "source": [
        "data['label'].value_counts()"
      ]
    },
    {
      "cell_type": "code",
      "execution_count": 6,
      "metadata": {
        "colab": {
          "base_uri": "https://localhost:8080/",
          "height": 224
        },
        "id": "OiRwKzTMQj4G",
        "outputId": "84a4b7c2-bd3b-4c81-bf35-bc18eb78ef47"
      },
      "outputs": [
        {
          "data": {
            "text/html": [
              "<div>\n",
              "<style scoped>\n",
              "    .dataframe tbody tr th:only-of-type {\n",
              "        vertical-align: middle;\n",
              "    }\n",
              "\n",
              "    .dataframe tbody tr th {\n",
              "        vertical-align: top;\n",
              "    }\n",
              "\n",
              "    .dataframe thead th {\n",
              "        text-align: right;\n",
              "    }\n",
              "</style>\n",
              "<table border=\"1\" class=\"dataframe\">\n",
              "  <thead>\n",
              "    <tr style=\"text-align: right;\">\n",
              "      <th></th>\n",
              "      <th>srcip</th>\n",
              "      <th>sport</th>\n",
              "      <th>dstip</th>\n",
              "      <th>dsport</th>\n",
              "      <th>proto</th>\n",
              "      <th>state</th>\n",
              "      <th>dur</th>\n",
              "      <th>sbytes</th>\n",
              "      <th>dbytes</th>\n",
              "      <th>sttl</th>\n",
              "      <th>dttl</th>\n",
              "      <th>sloss</th>\n",
              "      <th>dloss</th>\n",
              "      <th>service</th>\n",
              "      <th>Sload</th>\n",
              "      <th>Dload</th>\n",
              "      <th>Spkts</th>\n",
              "      <th>Dpkts</th>\n",
              "      <th>swin</th>\n",
              "      <th>dwin</th>\n",
              "      <th>stcpb</th>\n",
              "      <th>dtcpb</th>\n",
              "      <th>smeansz</th>\n",
              "      <th>dmeansz</th>\n",
              "      <th>trans_depth</th>\n",
              "      <th>res_bdy_len</th>\n",
              "      <th>Sjit</th>\n",
              "      <th>Djit</th>\n",
              "      <th>Stime</th>\n",
              "      <th>Ltime</th>\n",
              "      <th>Sintpkt</th>\n",
              "      <th>Dintpkt</th>\n",
              "      <th>tcprtt</th>\n",
              "      <th>synack</th>\n",
              "      <th>ackdat</th>\n",
              "      <th>is_sm_ips_ports</th>\n",
              "      <th>ct_state_ttl</th>\n",
              "      <th>ct_flw_http_mthd</th>\n",
              "      <th>is_ftp_login</th>\n",
              "      <th>ct_ftp_cmd</th>\n",
              "      <th>ct_srv_src</th>\n",
              "      <th>ct_srv_dst</th>\n",
              "      <th>ct_dst_ltm</th>\n",
              "      <th>ct_src_ltm</th>\n",
              "      <th>ct_src_dport_ltm</th>\n",
              "      <th>ct_dst_sport_ltm</th>\n",
              "      <th>ct_dst_src_ltm</th>\n",
              "      <th>attack_cat</th>\n",
              "      <th>label</th>\n",
              "    </tr>\n",
              "  </thead>\n",
              "  <tbody>\n",
              "    <tr>\n",
              "      <th>0</th>\n",
              "      <td>59.166.0.0</td>\n",
              "      <td>1390</td>\n",
              "      <td>149.171.126.6</td>\n",
              "      <td>53</td>\n",
              "      <td>udp</td>\n",
              "      <td>CON</td>\n",
              "      <td>0.001055</td>\n",
              "      <td>132</td>\n",
              "      <td>164</td>\n",
              "      <td>31</td>\n",
              "      <td>29</td>\n",
              "      <td>0</td>\n",
              "      <td>0</td>\n",
              "      <td>dns</td>\n",
              "      <td>500473.93750</td>\n",
              "      <td>621800.93750</td>\n",
              "      <td>2</td>\n",
              "      <td>2</td>\n",
              "      <td>0</td>\n",
              "      <td>0</td>\n",
              "      <td>0</td>\n",
              "      <td>0</td>\n",
              "      <td>66</td>\n",
              "      <td>82</td>\n",
              "      <td>0</td>\n",
              "      <td>0</td>\n",
              "      <td>0.00000</td>\n",
              "      <td>0.000000</td>\n",
              "      <td>1421927414</td>\n",
              "      <td>1421927414</td>\n",
              "      <td>0.017</td>\n",
              "      <td>0.013000</td>\n",
              "      <td>0.0</td>\n",
              "      <td>0.0</td>\n",
              "      <td>0.0</td>\n",
              "      <td>0</td>\n",
              "      <td>0</td>\n",
              "      <td>0.0</td>\n",
              "      <td>0.0</td>\n",
              "      <td>0</td>\n",
              "      <td>3</td>\n",
              "      <td>7</td>\n",
              "      <td>1</td>\n",
              "      <td>3</td>\n",
              "      <td>1</td>\n",
              "      <td>1</td>\n",
              "      <td>1</td>\n",
              "      <td>NaN</td>\n",
              "      <td>0</td>\n",
              "    </tr>\n",
              "    <tr>\n",
              "      <th>1</th>\n",
              "      <td>59.166.0.0</td>\n",
              "      <td>33661</td>\n",
              "      <td>149.171.126.9</td>\n",
              "      <td>1024</td>\n",
              "      <td>udp</td>\n",
              "      <td>CON</td>\n",
              "      <td>0.036133</td>\n",
              "      <td>528</td>\n",
              "      <td>304</td>\n",
              "      <td>31</td>\n",
              "      <td>29</td>\n",
              "      <td>0</td>\n",
              "      <td>0</td>\n",
              "      <td>-</td>\n",
              "      <td>87676.08594</td>\n",
              "      <td>50480.17188</td>\n",
              "      <td>4</td>\n",
              "      <td>4</td>\n",
              "      <td>0</td>\n",
              "      <td>0</td>\n",
              "      <td>0</td>\n",
              "      <td>0</td>\n",
              "      <td>132</td>\n",
              "      <td>76</td>\n",
              "      <td>0</td>\n",
              "      <td>0</td>\n",
              "      <td>9.89101</td>\n",
              "      <td>10.682733</td>\n",
              "      <td>1421927414</td>\n",
              "      <td>1421927414</td>\n",
              "      <td>7.005</td>\n",
              "      <td>7.564333</td>\n",
              "      <td>0.0</td>\n",
              "      <td>0.0</td>\n",
              "      <td>0.0</td>\n",
              "      <td>0</td>\n",
              "      <td>0</td>\n",
              "      <td>0.0</td>\n",
              "      <td>0.0</td>\n",
              "      <td>0</td>\n",
              "      <td>2</td>\n",
              "      <td>4</td>\n",
              "      <td>2</td>\n",
              "      <td>3</td>\n",
              "      <td>1</td>\n",
              "      <td>1</td>\n",
              "      <td>2</td>\n",
              "      <td>NaN</td>\n",
              "      <td>0</td>\n",
              "    </tr>\n",
              "    <tr>\n",
              "      <th>2</th>\n",
              "      <td>59.166.0.6</td>\n",
              "      <td>1464</td>\n",
              "      <td>149.171.126.7</td>\n",
              "      <td>53</td>\n",
              "      <td>udp</td>\n",
              "      <td>CON</td>\n",
              "      <td>0.001119</td>\n",
              "      <td>146</td>\n",
              "      <td>178</td>\n",
              "      <td>31</td>\n",
              "      <td>29</td>\n",
              "      <td>0</td>\n",
              "      <td>0</td>\n",
              "      <td>dns</td>\n",
              "      <td>521894.53130</td>\n",
              "      <td>636282.37500</td>\n",
              "      <td>2</td>\n",
              "      <td>2</td>\n",
              "      <td>0</td>\n",
              "      <td>0</td>\n",
              "      <td>0</td>\n",
              "      <td>0</td>\n",
              "      <td>73</td>\n",
              "      <td>89</td>\n",
              "      <td>0</td>\n",
              "      <td>0</td>\n",
              "      <td>0.00000</td>\n",
              "      <td>0.000000</td>\n",
              "      <td>1421927414</td>\n",
              "      <td>1421927414</td>\n",
              "      <td>0.017</td>\n",
              "      <td>0.013000</td>\n",
              "      <td>0.0</td>\n",
              "      <td>0.0</td>\n",
              "      <td>0.0</td>\n",
              "      <td>0</td>\n",
              "      <td>0</td>\n",
              "      <td>0.0</td>\n",
              "      <td>0.0</td>\n",
              "      <td>0</td>\n",
              "      <td>12</td>\n",
              "      <td>8</td>\n",
              "      <td>1</td>\n",
              "      <td>2</td>\n",
              "      <td>2</td>\n",
              "      <td>1</td>\n",
              "      <td>1</td>\n",
              "      <td>NaN</td>\n",
              "      <td>0</td>\n",
              "    </tr>\n",
              "    <tr>\n",
              "      <th>3</th>\n",
              "      <td>59.166.0.5</td>\n",
              "      <td>3593</td>\n",
              "      <td>149.171.126.5</td>\n",
              "      <td>53</td>\n",
              "      <td>udp</td>\n",
              "      <td>CON</td>\n",
              "      <td>0.001209</td>\n",
              "      <td>132</td>\n",
              "      <td>164</td>\n",
              "      <td>31</td>\n",
              "      <td>29</td>\n",
              "      <td>0</td>\n",
              "      <td>0</td>\n",
              "      <td>dns</td>\n",
              "      <td>436724.56250</td>\n",
              "      <td>542597.18750</td>\n",
              "      <td>2</td>\n",
              "      <td>2</td>\n",
              "      <td>0</td>\n",
              "      <td>0</td>\n",
              "      <td>0</td>\n",
              "      <td>0</td>\n",
              "      <td>66</td>\n",
              "      <td>82</td>\n",
              "      <td>0</td>\n",
              "      <td>0</td>\n",
              "      <td>0.00000</td>\n",
              "      <td>0.000000</td>\n",
              "      <td>1421927414</td>\n",
              "      <td>1421927414</td>\n",
              "      <td>0.043</td>\n",
              "      <td>0.014000</td>\n",
              "      <td>0.0</td>\n",
              "      <td>0.0</td>\n",
              "      <td>0.0</td>\n",
              "      <td>0</td>\n",
              "      <td>0</td>\n",
              "      <td>0.0</td>\n",
              "      <td>0.0</td>\n",
              "      <td>0</td>\n",
              "      <td>6</td>\n",
              "      <td>9</td>\n",
              "      <td>1</td>\n",
              "      <td>1</td>\n",
              "      <td>1</td>\n",
              "      <td>1</td>\n",
              "      <td>1</td>\n",
              "      <td>NaN</td>\n",
              "      <td>0</td>\n",
              "    </tr>\n",
              "    <tr>\n",
              "      <th>4</th>\n",
              "      <td>59.166.0.3</td>\n",
              "      <td>49664</td>\n",
              "      <td>149.171.126.0</td>\n",
              "      <td>53</td>\n",
              "      <td>udp</td>\n",
              "      <td>CON</td>\n",
              "      <td>0.001169</td>\n",
              "      <td>146</td>\n",
              "      <td>178</td>\n",
              "      <td>31</td>\n",
              "      <td>29</td>\n",
              "      <td>0</td>\n",
              "      <td>0</td>\n",
              "      <td>dns</td>\n",
              "      <td>499572.25000</td>\n",
              "      <td>609067.56250</td>\n",
              "      <td>2</td>\n",
              "      <td>2</td>\n",
              "      <td>0</td>\n",
              "      <td>0</td>\n",
              "      <td>0</td>\n",
              "      <td>0</td>\n",
              "      <td>73</td>\n",
              "      <td>89</td>\n",
              "      <td>0</td>\n",
              "      <td>0</td>\n",
              "      <td>0.00000</td>\n",
              "      <td>0.000000</td>\n",
              "      <td>1421927414</td>\n",
              "      <td>1421927414</td>\n",
              "      <td>0.005</td>\n",
              "      <td>0.003000</td>\n",
              "      <td>0.0</td>\n",
              "      <td>0.0</td>\n",
              "      <td>0.0</td>\n",
              "      <td>0</td>\n",
              "      <td>0</td>\n",
              "      <td>0.0</td>\n",
              "      <td>0.0</td>\n",
              "      <td>0</td>\n",
              "      <td>7</td>\n",
              "      <td>9</td>\n",
              "      <td>1</td>\n",
              "      <td>1</td>\n",
              "      <td>1</td>\n",
              "      <td>1</td>\n",
              "      <td>1</td>\n",
              "      <td>NaN</td>\n",
              "      <td>0</td>\n",
              "    </tr>\n",
              "  </tbody>\n",
              "</table>\n",
              "</div>"
            ],
            "text/plain": [
              "        srcip  sport          dstip dsport proto state       dur  sbytes  \\\n",
              "0  59.166.0.0   1390  149.171.126.6     53   udp   CON  0.001055     132   \n",
              "1  59.166.0.0  33661  149.171.126.9   1024   udp   CON  0.036133     528   \n",
              "2  59.166.0.6   1464  149.171.126.7     53   udp   CON  0.001119     146   \n",
              "3  59.166.0.5   3593  149.171.126.5     53   udp   CON  0.001209     132   \n",
              "4  59.166.0.3  49664  149.171.126.0     53   udp   CON  0.001169     146   \n",
              "\n",
              "   dbytes  sttl  dttl  sloss  dloss service         Sload         Dload  \\\n",
              "0     164    31    29      0      0     dns  500473.93750  621800.93750   \n",
              "1     304    31    29      0      0       -   87676.08594   50480.17188   \n",
              "2     178    31    29      0      0     dns  521894.53130  636282.37500   \n",
              "3     164    31    29      0      0     dns  436724.56250  542597.18750   \n",
              "4     178    31    29      0      0     dns  499572.25000  609067.56250   \n",
              "\n",
              "   Spkts  Dpkts  swin  dwin  stcpb  dtcpb  smeansz  dmeansz  trans_depth  \\\n",
              "0      2      2     0     0      0      0       66       82            0   \n",
              "1      4      4     0     0      0      0      132       76            0   \n",
              "2      2      2     0     0      0      0       73       89            0   \n",
              "3      2      2     0     0      0      0       66       82            0   \n",
              "4      2      2     0     0      0      0       73       89            0   \n",
              "\n",
              "   res_bdy_len     Sjit       Djit       Stime       Ltime  Sintpkt   Dintpkt  \\\n",
              "0            0  0.00000   0.000000  1421927414  1421927414    0.017  0.013000   \n",
              "1            0  9.89101  10.682733  1421927414  1421927414    7.005  7.564333   \n",
              "2            0  0.00000   0.000000  1421927414  1421927414    0.017  0.013000   \n",
              "3            0  0.00000   0.000000  1421927414  1421927414    0.043  0.014000   \n",
              "4            0  0.00000   0.000000  1421927414  1421927414    0.005  0.003000   \n",
              "\n",
              "   tcprtt  synack  ackdat  is_sm_ips_ports  ct_state_ttl  ct_flw_http_mthd  \\\n",
              "0     0.0     0.0     0.0                0             0               0.0   \n",
              "1     0.0     0.0     0.0                0             0               0.0   \n",
              "2     0.0     0.0     0.0                0             0               0.0   \n",
              "3     0.0     0.0     0.0                0             0               0.0   \n",
              "4     0.0     0.0     0.0                0             0               0.0   \n",
              "\n",
              "   is_ftp_login ct_ftp_cmd  ct_srv_src  ct_srv_dst  ct_dst_ltm  ct_src_ltm  \\\n",
              "0           0.0          0           3           7           1           3   \n",
              "1           0.0          0           2           4           2           3   \n",
              "2           0.0          0          12           8           1           2   \n",
              "3           0.0          0           6           9           1           1   \n",
              "4           0.0          0           7           9           1           1   \n",
              "\n",
              "   ct_src_dport_ltm  ct_dst_sport_ltm  ct_dst_src_ltm attack_cat  label  \n",
              "0                 1                 1               1        NaN      0  \n",
              "1                 1                 1               2        NaN      0  \n",
              "2                 2                 1               1        NaN      0  \n",
              "3                 1                 1               1        NaN      0  \n",
              "4                 1                 1               1        NaN      0  "
            ]
          },
          "execution_count": 6,
          "metadata": {},
          "output_type": "execute_result"
        }
      ],
      "source": [
        "data.head(n=5)"
      ]
    },
    {
      "cell_type": "code",
      "execution_count": 7,
      "metadata": {
        "colab": {
          "base_uri": "https://localhost:8080/"
        },
        "id": "B9cVv5S_RUlZ",
        "outputId": "537b13d5-9c32-442f-d109-4a514fb882dd"
      },
      "outputs": [
        {
          "name": "stdout",
          "output_type": "stream",
          "text": [
            "<class 'pandas.core.frame.DataFrame'>\n",
            "RangeIndex: 2540047 entries, 0 to 2540046\n",
            "Data columns (total 49 columns):\n",
            " #   Column            Dtype  \n",
            "---  ------            -----  \n",
            " 0   srcip             object \n",
            " 1   sport             object \n",
            " 2   dstip             object \n",
            " 3   dsport            object \n",
            " 4   proto             object \n",
            " 5   state             object \n",
            " 6   dur               float64\n",
            " 7   sbytes            int64  \n",
            " 8   dbytes            int64  \n",
            " 9   sttl              int64  \n",
            " 10  dttl              int64  \n",
            " 11  sloss             int64  \n",
            " 12  dloss             int64  \n",
            " 13  service           object \n",
            " 14  Sload             float64\n",
            " 15  Dload             float64\n",
            " 16  Spkts             int64  \n",
            " 17  Dpkts             int64  \n",
            " 18  swin              int64  \n",
            " 19  dwin              int64  \n",
            " 20  stcpb             int64  \n",
            " 21  dtcpb             int64  \n",
            " 22  smeansz           int64  \n",
            " 23  dmeansz           int64  \n",
            " 24  trans_depth       int64  \n",
            " 25  res_bdy_len       int64  \n",
            " 26  Sjit              float64\n",
            " 27  Djit              float64\n",
            " 28  Stime             int64  \n",
            " 29  Ltime             int64  \n",
            " 30  Sintpkt           float64\n",
            " 31  Dintpkt           float64\n",
            " 32  tcprtt            float64\n",
            " 33  synack            float64\n",
            " 34  ackdat            float64\n",
            " 35  is_sm_ips_ports   int64  \n",
            " 36  ct_state_ttl      int64  \n",
            " 37  ct_flw_http_mthd  float64\n",
            " 38  is_ftp_login      float64\n",
            " 39  ct_ftp_cmd        object \n",
            " 40  ct_srv_src        int64  \n",
            " 41  ct_srv_dst        int64  \n",
            " 42  ct_dst_ltm        int64  \n",
            " 43  ct_src_ltm        int64  \n",
            " 44  ct_src_dport_ltm  int64  \n",
            " 45  ct_dst_sport_ltm  int64  \n",
            " 46  ct_dst_src_ltm    int64  \n",
            " 47  attack_cat        object \n",
            " 48  label             int64  \n",
            "dtypes: float64(12), int64(28), object(9)\n",
            "memory usage: 949.6+ MB\n"
          ]
        }
      ],
      "source": [
        "data.info()"
      ]
    },
    {
      "cell_type": "code",
      "execution_count": 8,
      "metadata": {
        "colab": {
          "base_uri": "https://localhost:8080/",
          "height": 439
        },
        "id": "1VchaJgfR7r3",
        "outputId": "ef6cbe08-bec3-4bfc-a89c-e3e9ee63160b"
      },
      "outputs": [
        {
          "data": {
            "text/html": [
              "<div>\n",
              "<style scoped>\n",
              "    .dataframe tbody tr th:only-of-type {\n",
              "        vertical-align: middle;\n",
              "    }\n",
              "\n",
              "    .dataframe tbody tr th {\n",
              "        vertical-align: top;\n",
              "    }\n",
              "\n",
              "    .dataframe thead th {\n",
              "        text-align: right;\n",
              "    }\n",
              "</style>\n",
              "<table border=\"1\" class=\"dataframe\">\n",
              "  <thead>\n",
              "    <tr style=\"text-align: right;\">\n",
              "      <th></th>\n",
              "      <th>srcip</th>\n",
              "      <th>sport</th>\n",
              "      <th>dstip</th>\n",
              "      <th>dsport</th>\n",
              "      <th>proto</th>\n",
              "      <th>state</th>\n",
              "      <th>dur</th>\n",
              "      <th>sbytes</th>\n",
              "      <th>dbytes</th>\n",
              "      <th>sttl</th>\n",
              "      <th>dttl</th>\n",
              "      <th>sloss</th>\n",
              "      <th>dloss</th>\n",
              "      <th>service</th>\n",
              "      <th>Sload</th>\n",
              "      <th>Dload</th>\n",
              "      <th>Spkts</th>\n",
              "      <th>Dpkts</th>\n",
              "      <th>swin</th>\n",
              "      <th>dwin</th>\n",
              "      <th>stcpb</th>\n",
              "      <th>dtcpb</th>\n",
              "      <th>smeansz</th>\n",
              "      <th>dmeansz</th>\n",
              "      <th>trans_depth</th>\n",
              "      <th>res_bdy_len</th>\n",
              "      <th>Sjit</th>\n",
              "      <th>Djit</th>\n",
              "      <th>Stime</th>\n",
              "      <th>Ltime</th>\n",
              "      <th>Sintpkt</th>\n",
              "      <th>Dintpkt</th>\n",
              "      <th>tcprtt</th>\n",
              "      <th>synack</th>\n",
              "      <th>ackdat</th>\n",
              "      <th>is_sm_ips_ports</th>\n",
              "      <th>ct_state_ttl</th>\n",
              "      <th>ct_flw_http_mthd</th>\n",
              "      <th>is_ftp_login</th>\n",
              "      <th>ct_ftp_cmd</th>\n",
              "      <th>ct_srv_src</th>\n",
              "      <th>ct_srv_dst</th>\n",
              "      <th>ct_dst_ltm</th>\n",
              "      <th>ct_src_ltm</th>\n",
              "      <th>ct_src_dport_ltm</th>\n",
              "      <th>ct_dst_sport_ltm</th>\n",
              "      <th>ct_dst_src_ltm</th>\n",
              "      <th>attack_cat</th>\n",
              "      <th>label</th>\n",
              "    </tr>\n",
              "  </thead>\n",
              "  <tbody>\n",
              "    <tr>\n",
              "      <th>1</th>\n",
              "      <td>59.166.0.0</td>\n",
              "      <td>33661</td>\n",
              "      <td>149.171.126.9</td>\n",
              "      <td>1024</td>\n",
              "      <td>udp</td>\n",
              "      <td>CON</td>\n",
              "      <td>0.036133</td>\n",
              "      <td>528</td>\n",
              "      <td>304</td>\n",
              "      <td>31</td>\n",
              "      <td>29</td>\n",
              "      <td>0</td>\n",
              "      <td>0</td>\n",
              "      <td>-</td>\n",
              "      <td>87676.085940</td>\n",
              "      <td>5.048017e+04</td>\n",
              "      <td>4</td>\n",
              "      <td>4</td>\n",
              "      <td>0</td>\n",
              "      <td>0</td>\n",
              "      <td>0</td>\n",
              "      <td>0</td>\n",
              "      <td>132</td>\n",
              "      <td>76</td>\n",
              "      <td>0</td>\n",
              "      <td>0</td>\n",
              "      <td>9.891010</td>\n",
              "      <td>10.682733</td>\n",
              "      <td>1421927414</td>\n",
              "      <td>1421927414</td>\n",
              "      <td>7.005000</td>\n",
              "      <td>7.564333</td>\n",
              "      <td>0.000000</td>\n",
              "      <td>0.000000</td>\n",
              "      <td>0.000000</td>\n",
              "      <td>0</td>\n",
              "      <td>0</td>\n",
              "      <td>0.0</td>\n",
              "      <td>0.0</td>\n",
              "      <td>0</td>\n",
              "      <td>2</td>\n",
              "      <td>4</td>\n",
              "      <td>2</td>\n",
              "      <td>3</td>\n",
              "      <td>1</td>\n",
              "      <td>1</td>\n",
              "      <td>2</td>\n",
              "      <td>NaN</td>\n",
              "      <td>0</td>\n",
              "    </tr>\n",
              "    <tr>\n",
              "      <th>5</th>\n",
              "      <td>59.166.0.0</td>\n",
              "      <td>32119</td>\n",
              "      <td>149.171.126.9</td>\n",
              "      <td>111</td>\n",
              "      <td>udp</td>\n",
              "      <td>CON</td>\n",
              "      <td>0.078339</td>\n",
              "      <td>568</td>\n",
              "      <td>312</td>\n",
              "      <td>31</td>\n",
              "      <td>29</td>\n",
              "      <td>0</td>\n",
              "      <td>0</td>\n",
              "      <td>-</td>\n",
              "      <td>43503.234380</td>\n",
              "      <td>2.389614e+04</td>\n",
              "      <td>4</td>\n",
              "      <td>4</td>\n",
              "      <td>0</td>\n",
              "      <td>0</td>\n",
              "      <td>0</td>\n",
              "      <td>0</td>\n",
              "      <td>142</td>\n",
              "      <td>78</td>\n",
              "      <td>0</td>\n",
              "      <td>0</td>\n",
              "      <td>29.682221</td>\n",
              "      <td>34.370340</td>\n",
              "      <td>1421927414</td>\n",
              "      <td>1421927414</td>\n",
              "      <td>21.003000</td>\n",
              "      <td>24.315000</td>\n",
              "      <td>0.000000</td>\n",
              "      <td>0.000000</td>\n",
              "      <td>0.000000</td>\n",
              "      <td>0</td>\n",
              "      <td>0</td>\n",
              "      <td>0.0</td>\n",
              "      <td>0.0</td>\n",
              "      <td>0</td>\n",
              "      <td>2</td>\n",
              "      <td>4</td>\n",
              "      <td>2</td>\n",
              "      <td>3</td>\n",
              "      <td>1</td>\n",
              "      <td>1</td>\n",
              "      <td>2</td>\n",
              "      <td>NaN</td>\n",
              "      <td>0</td>\n",
              "    </tr>\n",
              "    <tr>\n",
              "      <th>7</th>\n",
              "      <td>10.40.182.3</td>\n",
              "      <td>0</td>\n",
              "      <td>10.40.182.3</td>\n",
              "      <td>0</td>\n",
              "      <td>arp</td>\n",
              "      <td>INT</td>\n",
              "      <td>0.000000</td>\n",
              "      <td>46</td>\n",
              "      <td>0</td>\n",
              "      <td>0</td>\n",
              "      <td>0</td>\n",
              "      <td>0</td>\n",
              "      <td>0</td>\n",
              "      <td>-</td>\n",
              "      <td>0.000000</td>\n",
              "      <td>0.000000e+00</td>\n",
              "      <td>1</td>\n",
              "      <td>0</td>\n",
              "      <td>0</td>\n",
              "      <td>0</td>\n",
              "      <td>0</td>\n",
              "      <td>0</td>\n",
              "      <td>46</td>\n",
              "      <td>0</td>\n",
              "      <td>0</td>\n",
              "      <td>0</td>\n",
              "      <td>0.000000</td>\n",
              "      <td>0.000000</td>\n",
              "      <td>1421927415</td>\n",
              "      <td>1421927415</td>\n",
              "      <td>0.000000</td>\n",
              "      <td>0.000000</td>\n",
              "      <td>0.000000</td>\n",
              "      <td>0.000000</td>\n",
              "      <td>0.000000</td>\n",
              "      <td>1</td>\n",
              "      <td>2</td>\n",
              "      <td>0.0</td>\n",
              "      <td>0.0</td>\n",
              "      <td>0</td>\n",
              "      <td>2</td>\n",
              "      <td>2</td>\n",
              "      <td>2</td>\n",
              "      <td>2</td>\n",
              "      <td>2</td>\n",
              "      <td>2</td>\n",
              "      <td>2</td>\n",
              "      <td>NaN</td>\n",
              "      <td>0</td>\n",
              "    </tr>\n",
              "    <tr>\n",
              "      <th>10</th>\n",
              "      <td>10.40.170.2</td>\n",
              "      <td>0</td>\n",
              "      <td>10.40.170.2</td>\n",
              "      <td>0</td>\n",
              "      <td>arp</td>\n",
              "      <td>INT</td>\n",
              "      <td>0.000000</td>\n",
              "      <td>46</td>\n",
              "      <td>0</td>\n",
              "      <td>0</td>\n",
              "      <td>0</td>\n",
              "      <td>0</td>\n",
              "      <td>0</td>\n",
              "      <td>-</td>\n",
              "      <td>0.000000</td>\n",
              "      <td>0.000000e+00</td>\n",
              "      <td>1</td>\n",
              "      <td>0</td>\n",
              "      <td>0</td>\n",
              "      <td>0</td>\n",
              "      <td>0</td>\n",
              "      <td>0</td>\n",
              "      <td>46</td>\n",
              "      <td>0</td>\n",
              "      <td>0</td>\n",
              "      <td>0</td>\n",
              "      <td>0.000000</td>\n",
              "      <td>0.000000</td>\n",
              "      <td>1421927415</td>\n",
              "      <td>1421927415</td>\n",
              "      <td>0.000000</td>\n",
              "      <td>0.000000</td>\n",
              "      <td>0.000000</td>\n",
              "      <td>0.000000</td>\n",
              "      <td>0.000000</td>\n",
              "      <td>1</td>\n",
              "      <td>2</td>\n",
              "      <td>0.0</td>\n",
              "      <td>0.0</td>\n",
              "      <td>0</td>\n",
              "      <td>2</td>\n",
              "      <td>2</td>\n",
              "      <td>2</td>\n",
              "      <td>2</td>\n",
              "      <td>2</td>\n",
              "      <td>2</td>\n",
              "      <td>2</td>\n",
              "      <td>NaN</td>\n",
              "      <td>0</td>\n",
              "    </tr>\n",
              "    <tr>\n",
              "      <th>11</th>\n",
              "      <td>10.40.170.2</td>\n",
              "      <td>0</td>\n",
              "      <td>10.40.170.2</td>\n",
              "      <td>0</td>\n",
              "      <td>arp</td>\n",
              "      <td>INT</td>\n",
              "      <td>0.000000</td>\n",
              "      <td>46</td>\n",
              "      <td>0</td>\n",
              "      <td>0</td>\n",
              "      <td>0</td>\n",
              "      <td>0</td>\n",
              "      <td>0</td>\n",
              "      <td>-</td>\n",
              "      <td>0.000000</td>\n",
              "      <td>0.000000e+00</td>\n",
              "      <td>1</td>\n",
              "      <td>0</td>\n",
              "      <td>0</td>\n",
              "      <td>0</td>\n",
              "      <td>0</td>\n",
              "      <td>0</td>\n",
              "      <td>46</td>\n",
              "      <td>0</td>\n",
              "      <td>0</td>\n",
              "      <td>0</td>\n",
              "      <td>0.000000</td>\n",
              "      <td>0.000000</td>\n",
              "      <td>1421927415</td>\n",
              "      <td>1421927415</td>\n",
              "      <td>0.000000</td>\n",
              "      <td>0.000000</td>\n",
              "      <td>0.000000</td>\n",
              "      <td>0.000000</td>\n",
              "      <td>0.000000</td>\n",
              "      <td>1</td>\n",
              "      <td>2</td>\n",
              "      <td>0.0</td>\n",
              "      <td>0.0</td>\n",
              "      <td>0</td>\n",
              "      <td>2</td>\n",
              "      <td>2</td>\n",
              "      <td>2</td>\n",
              "      <td>2</td>\n",
              "      <td>2</td>\n",
              "      <td>2</td>\n",
              "      <td>2</td>\n",
              "      <td>NaN</td>\n",
              "      <td>0</td>\n",
              "    </tr>\n",
              "    <tr>\n",
              "      <th>...</th>\n",
              "      <td>...</td>\n",
              "      <td>...</td>\n",
              "      <td>...</td>\n",
              "      <td>...</td>\n",
              "      <td>...</td>\n",
              "      <td>...</td>\n",
              "      <td>...</td>\n",
              "      <td>...</td>\n",
              "      <td>...</td>\n",
              "      <td>...</td>\n",
              "      <td>...</td>\n",
              "      <td>...</td>\n",
              "      <td>...</td>\n",
              "      <td>...</td>\n",
              "      <td>...</td>\n",
              "      <td>...</td>\n",
              "      <td>...</td>\n",
              "      <td>...</td>\n",
              "      <td>...</td>\n",
              "      <td>...</td>\n",
              "      <td>...</td>\n",
              "      <td>...</td>\n",
              "      <td>...</td>\n",
              "      <td>...</td>\n",
              "      <td>...</td>\n",
              "      <td>...</td>\n",
              "      <td>...</td>\n",
              "      <td>...</td>\n",
              "      <td>...</td>\n",
              "      <td>...</td>\n",
              "      <td>...</td>\n",
              "      <td>...</td>\n",
              "      <td>...</td>\n",
              "      <td>...</td>\n",
              "      <td>...</td>\n",
              "      <td>...</td>\n",
              "      <td>...</td>\n",
              "      <td>...</td>\n",
              "      <td>...</td>\n",
              "      <td>...</td>\n",
              "      <td>...</td>\n",
              "      <td>...</td>\n",
              "      <td>...</td>\n",
              "      <td>...</td>\n",
              "      <td>...</td>\n",
              "      <td>...</td>\n",
              "      <td>...</td>\n",
              "      <td>...</td>\n",
              "      <td>...</td>\n",
              "    </tr>\n",
              "    <tr>\n",
              "      <th>2540028</th>\n",
              "      <td>175.45.176.0</td>\n",
              "      <td>17293</td>\n",
              "      <td>149.171.126.17</td>\n",
              "      <td>110</td>\n",
              "      <td>tcp</td>\n",
              "      <td>CON</td>\n",
              "      <td>0.942984</td>\n",
              "      <td>574</td>\n",
              "      <td>676</td>\n",
              "      <td>62</td>\n",
              "      <td>252</td>\n",
              "      <td>5</td>\n",
              "      <td>6</td>\n",
              "      <td>-</td>\n",
              "      <td>4470.913574</td>\n",
              "      <td>5.259898e+03</td>\n",
              "      <td>12</td>\n",
              "      <td>12</td>\n",
              "      <td>255</td>\n",
              "      <td>255</td>\n",
              "      <td>3026824982</td>\n",
              "      <td>3748412468</td>\n",
              "      <td>48</td>\n",
              "      <td>56</td>\n",
              "      <td>0</td>\n",
              "      <td>0</td>\n",
              "      <td>3903.523582</td>\n",
              "      <td>95.650531</td>\n",
              "      <td>1424262068</td>\n",
              "      <td>1424262069</td>\n",
              "      <td>79.714089</td>\n",
              "      <td>80.827180</td>\n",
              "      <td>0.139446</td>\n",
              "      <td>0.053884</td>\n",
              "      <td>0.085562</td>\n",
              "      <td>0</td>\n",
              "      <td>3</td>\n",
              "      <td>NaN</td>\n",
              "      <td>NaN</td>\n",
              "      <td></td>\n",
              "      <td>2</td>\n",
              "      <td>1</td>\n",
              "      <td>2</td>\n",
              "      <td>4</td>\n",
              "      <td>2</td>\n",
              "      <td>2</td>\n",
              "      <td>2</td>\n",
              "      <td>Exploits</td>\n",
              "      <td>1</td>\n",
              "    </tr>\n",
              "    <tr>\n",
              "      <th>2540029</th>\n",
              "      <td>175.45.176.0</td>\n",
              "      <td>33654</td>\n",
              "      <td>149.171.126.12</td>\n",
              "      <td>80</td>\n",
              "      <td>tcp</td>\n",
              "      <td>CON</td>\n",
              "      <td>2.579405</td>\n",
              "      <td>269883</td>\n",
              "      <td>1300</td>\n",
              "      <td>62</td>\n",
              "      <td>252</td>\n",
              "      <td>103</td>\n",
              "      <td>1</td>\n",
              "      <td>-</td>\n",
              "      <td>833016.875000</td>\n",
              "      <td>3.898573e+03</td>\n",
              "      <td>208</td>\n",
              "      <td>30</td>\n",
              "      <td>255</td>\n",
              "      <td>255</td>\n",
              "      <td>183420721</td>\n",
              "      <td>3548597985</td>\n",
              "      <td>1298</td>\n",
              "      <td>43</td>\n",
              "      <td>1</td>\n",
              "      <td>0</td>\n",
              "      <td>1701.614470</td>\n",
              "      <td>138.857703</td>\n",
              "      <td>1424262066</td>\n",
              "      <td>1424262069</td>\n",
              "      <td>12.239136</td>\n",
              "      <td>86.655617</td>\n",
              "      <td>0.159923</td>\n",
              "      <td>0.066388</td>\n",
              "      <td>0.093535</td>\n",
              "      <td>0</td>\n",
              "      <td>3</td>\n",
              "      <td>2.0</td>\n",
              "      <td>NaN</td>\n",
              "      <td></td>\n",
              "      <td>2</td>\n",
              "      <td>1</td>\n",
              "      <td>2</td>\n",
              "      <td>4</td>\n",
              "      <td>2</td>\n",
              "      <td>2</td>\n",
              "      <td>2</td>\n",
              "      <td>DoS</td>\n",
              "      <td>1</td>\n",
              "    </tr>\n",
              "    <tr>\n",
              "      <th>2540037</th>\n",
              "      <td>59.166.0.9</td>\n",
              "      <td>35433</td>\n",
              "      <td>149.171.126.0</td>\n",
              "      <td>80</td>\n",
              "      <td>tcp</td>\n",
              "      <td>CON</td>\n",
              "      <td>2.200934</td>\n",
              "      <td>3498</td>\n",
              "      <td>166054</td>\n",
              "      <td>31</td>\n",
              "      <td>29</td>\n",
              "      <td>2</td>\n",
              "      <td>57</td>\n",
              "      <td>-</td>\n",
              "      <td>12496.513670</td>\n",
              "      <td>5.983751e+05</td>\n",
              "      <td>58</td>\n",
              "      <td>116</td>\n",
              "      <td>255</td>\n",
              "      <td>255</td>\n",
              "      <td>1289728069</td>\n",
              "      <td>3436097151</td>\n",
              "      <td>60</td>\n",
              "      <td>1432</td>\n",
              "      <td>1</td>\n",
              "      <td>79745</td>\n",
              "      <td>2868.893137</td>\n",
              "      <td>1951.035944</td>\n",
              "      <td>1424262067</td>\n",
              "      <td>1424262069</td>\n",
              "      <td>38.609700</td>\n",
              "      <td>19.133826</td>\n",
              "      <td>0.000680</td>\n",
              "      <td>0.000541</td>\n",
              "      <td>0.000139</td>\n",
              "      <td>0</td>\n",
              "      <td>0</td>\n",
              "      <td>2.0</td>\n",
              "      <td>NaN</td>\n",
              "      <td></td>\n",
              "      <td>1</td>\n",
              "      <td>1</td>\n",
              "      <td>2</td>\n",
              "      <td>4</td>\n",
              "      <td>2</td>\n",
              "      <td>2</td>\n",
              "      <td>2</td>\n",
              "      <td>NaN</td>\n",
              "      <td>0</td>\n",
              "    </tr>\n",
              "    <tr>\n",
              "      <th>2540038</th>\n",
              "      <td>59.166.0.4</td>\n",
              "      <td>59563</td>\n",
              "      <td>149.171.126.2</td>\n",
              "      <td>80</td>\n",
              "      <td>tcp</td>\n",
              "      <td>CON</td>\n",
              "      <td>1.616038</td>\n",
              "      <td>1626</td>\n",
              "      <td>60216</td>\n",
              "      <td>31</td>\n",
              "      <td>29</td>\n",
              "      <td>2</td>\n",
              "      <td>21</td>\n",
              "      <td>-</td>\n",
              "      <td>7687.937988</td>\n",
              "      <td>2.913199e+05</td>\n",
              "      <td>22</td>\n",
              "      <td>44</td>\n",
              "      <td>255</td>\n",
              "      <td>255</td>\n",
              "      <td>3559312905</td>\n",
              "      <td>1591848767</td>\n",
              "      <td>74</td>\n",
              "      <td>1369</td>\n",
              "      <td>1</td>\n",
              "      <td>28698</td>\n",
              "      <td>4791.249452</td>\n",
              "      <td>2883.850201</td>\n",
              "      <td>1424262067</td>\n",
              "      <td>1424262069</td>\n",
              "      <td>76.946571</td>\n",
              "      <td>37.571442</td>\n",
              "      <td>0.000579</td>\n",
              "      <td>0.000463</td>\n",
              "      <td>0.000116</td>\n",
              "      <td>0</td>\n",
              "      <td>0</td>\n",
              "      <td>2.0</td>\n",
              "      <td>NaN</td>\n",
              "      <td></td>\n",
              "      <td>2</td>\n",
              "      <td>2</td>\n",
              "      <td>2</td>\n",
              "      <td>2</td>\n",
              "      <td>2</td>\n",
              "      <td>2</td>\n",
              "      <td>2</td>\n",
              "      <td>NaN</td>\n",
              "      <td>0</td>\n",
              "    </tr>\n",
              "    <tr>\n",
              "      <th>2540041</th>\n",
              "      <td>59.166.0.1</td>\n",
              "      <td>38606</td>\n",
              "      <td>149.171.126.9</td>\n",
              "      <td>80</td>\n",
              "      <td>tcp</td>\n",
              "      <td>CON</td>\n",
              "      <td>0.564998</td>\n",
              "      <td>14106</td>\n",
              "      <td>772406</td>\n",
              "      <td>31</td>\n",
              "      <td>29</td>\n",
              "      <td>2</td>\n",
              "      <td>262</td>\n",
              "      <td>-</td>\n",
              "      <td>198981.250000</td>\n",
              "      <td>1.091598e+07</td>\n",
              "      <td>262</td>\n",
              "      <td>526</td>\n",
              "      <td>255</td>\n",
              "      <td>255</td>\n",
              "      <td>162243658</td>\n",
              "      <td>163257853</td>\n",
              "      <td>54</td>\n",
              "      <td>1468</td>\n",
              "      <td>1</td>\n",
              "      <td>372266</td>\n",
              "      <td>116.321921</td>\n",
              "      <td>69.874077</td>\n",
              "      <td>1424262068</td>\n",
              "      <td>1424262069</td>\n",
              "      <td>2.123130</td>\n",
              "      <td>1.075171</td>\n",
              "      <td>0.000669</td>\n",
              "      <td>0.000530</td>\n",
              "      <td>0.000139</td>\n",
              "      <td>0</td>\n",
              "      <td>0</td>\n",
              "      <td>2.0</td>\n",
              "      <td>NaN</td>\n",
              "      <td></td>\n",
              "      <td>2</td>\n",
              "      <td>1</td>\n",
              "      <td>4</td>\n",
              "      <td>2</td>\n",
              "      <td>2</td>\n",
              "      <td>2</td>\n",
              "      <td>2</td>\n",
              "      <td>NaN</td>\n",
              "      <td>0</td>\n",
              "    </tr>\n",
              "  </tbody>\n",
              "</table>\n",
              "<p>1246397 rows × 49 columns</p>\n",
              "</div>"
            ],
            "text/plain": [
              "                srcip  sport           dstip dsport proto state       dur  \\\n",
              "1          59.166.0.0  33661   149.171.126.9   1024   udp   CON  0.036133   \n",
              "5          59.166.0.0  32119   149.171.126.9    111   udp   CON  0.078339   \n",
              "7         10.40.182.3      0     10.40.182.3      0   arp   INT  0.000000   \n",
              "10        10.40.170.2      0     10.40.170.2      0   arp   INT  0.000000   \n",
              "11        10.40.170.2      0     10.40.170.2      0   arp   INT  0.000000   \n",
              "...               ...    ...             ...    ...   ...   ...       ...   \n",
              "2540028  175.45.176.0  17293  149.171.126.17    110   tcp   CON  0.942984   \n",
              "2540029  175.45.176.0  33654  149.171.126.12     80   tcp   CON  2.579405   \n",
              "2540037    59.166.0.9  35433   149.171.126.0     80   tcp   CON  2.200934   \n",
              "2540038    59.166.0.4  59563   149.171.126.2     80   tcp   CON  1.616038   \n",
              "2540041    59.166.0.1  38606   149.171.126.9     80   tcp   CON  0.564998   \n",
              "\n",
              "         sbytes  dbytes  sttl  dttl  sloss  dloss service          Sload  \\\n",
              "1           528     304    31    29      0      0       -   87676.085940   \n",
              "5           568     312    31    29      0      0       -   43503.234380   \n",
              "7            46       0     0     0      0      0       -       0.000000   \n",
              "10           46       0     0     0      0      0       -       0.000000   \n",
              "11           46       0     0     0      0      0       -       0.000000   \n",
              "...         ...     ...   ...   ...    ...    ...     ...            ...   \n",
              "2540028     574     676    62   252      5      6       -    4470.913574   \n",
              "2540029  269883    1300    62   252    103      1       -  833016.875000   \n",
              "2540037    3498  166054    31    29      2     57       -   12496.513670   \n",
              "2540038    1626   60216    31    29      2     21       -    7687.937988   \n",
              "2540041   14106  772406    31    29      2    262       -  198981.250000   \n",
              "\n",
              "                Dload  Spkts  Dpkts  swin  dwin       stcpb       dtcpb  \\\n",
              "1        5.048017e+04      4      4     0     0           0           0   \n",
              "5        2.389614e+04      4      4     0     0           0           0   \n",
              "7        0.000000e+00      1      0     0     0           0           0   \n",
              "10       0.000000e+00      1      0     0     0           0           0   \n",
              "11       0.000000e+00      1      0     0     0           0           0   \n",
              "...               ...    ...    ...   ...   ...         ...         ...   \n",
              "2540028  5.259898e+03     12     12   255   255  3026824982  3748412468   \n",
              "2540029  3.898573e+03    208     30   255   255   183420721  3548597985   \n",
              "2540037  5.983751e+05     58    116   255   255  1289728069  3436097151   \n",
              "2540038  2.913199e+05     22     44   255   255  3559312905  1591848767   \n",
              "2540041  1.091598e+07    262    526   255   255   162243658   163257853   \n",
              "\n",
              "         smeansz  dmeansz  trans_depth  res_bdy_len         Sjit         Djit  \\\n",
              "1            132       76            0            0     9.891010    10.682733   \n",
              "5            142       78            0            0    29.682221    34.370340   \n",
              "7             46        0            0            0     0.000000     0.000000   \n",
              "10            46        0            0            0     0.000000     0.000000   \n",
              "11            46        0            0            0     0.000000     0.000000   \n",
              "...          ...      ...          ...          ...          ...          ...   \n",
              "2540028       48       56            0            0  3903.523582    95.650531   \n",
              "2540029     1298       43            1            0  1701.614470   138.857703   \n",
              "2540037       60     1432            1        79745  2868.893137  1951.035944   \n",
              "2540038       74     1369            1        28698  4791.249452  2883.850201   \n",
              "2540041       54     1468            1       372266   116.321921    69.874077   \n",
              "\n",
              "              Stime       Ltime    Sintpkt    Dintpkt    tcprtt    synack  \\\n",
              "1        1421927414  1421927414   7.005000   7.564333  0.000000  0.000000   \n",
              "5        1421927414  1421927414  21.003000  24.315000  0.000000  0.000000   \n",
              "7        1421927415  1421927415   0.000000   0.000000  0.000000  0.000000   \n",
              "10       1421927415  1421927415   0.000000   0.000000  0.000000  0.000000   \n",
              "11       1421927415  1421927415   0.000000   0.000000  0.000000  0.000000   \n",
              "...             ...         ...        ...        ...       ...       ...   \n",
              "2540028  1424262068  1424262069  79.714089  80.827180  0.139446  0.053884   \n",
              "2540029  1424262066  1424262069  12.239136  86.655617  0.159923  0.066388   \n",
              "2540037  1424262067  1424262069  38.609700  19.133826  0.000680  0.000541   \n",
              "2540038  1424262067  1424262069  76.946571  37.571442  0.000579  0.000463   \n",
              "2540041  1424262068  1424262069   2.123130   1.075171  0.000669  0.000530   \n",
              "\n",
              "           ackdat  is_sm_ips_ports  ct_state_ttl  ct_flw_http_mthd  \\\n",
              "1        0.000000                0             0               0.0   \n",
              "5        0.000000                0             0               0.0   \n",
              "7        0.000000                1             2               0.0   \n",
              "10       0.000000                1             2               0.0   \n",
              "11       0.000000                1             2               0.0   \n",
              "...           ...              ...           ...               ...   \n",
              "2540028  0.085562                0             3               NaN   \n",
              "2540029  0.093535                0             3               2.0   \n",
              "2540037  0.000139                0             0               2.0   \n",
              "2540038  0.000116                0             0               2.0   \n",
              "2540041  0.000139                0             0               2.0   \n",
              "\n",
              "         is_ftp_login ct_ftp_cmd  ct_srv_src  ct_srv_dst  ct_dst_ltm  \\\n",
              "1                 0.0          0           2           4           2   \n",
              "5                 0.0          0           2           4           2   \n",
              "7                 0.0          0           2           2           2   \n",
              "10                0.0          0           2           2           2   \n",
              "11                0.0          0           2           2           2   \n",
              "...               ...        ...         ...         ...         ...   \n",
              "2540028           NaN                      2           1           2   \n",
              "2540029           NaN                      2           1           2   \n",
              "2540037           NaN                      1           1           2   \n",
              "2540038           NaN                      2           2           2   \n",
              "2540041           NaN                      2           1           4   \n",
              "\n",
              "         ct_src_ltm  ct_src_dport_ltm  ct_dst_sport_ltm  ct_dst_src_ltm  \\\n",
              "1                 3                 1                 1               2   \n",
              "5                 3                 1                 1               2   \n",
              "7                 2                 2                 2               2   \n",
              "10                2                 2                 2               2   \n",
              "11                2                 2                 2               2   \n",
              "...             ...               ...               ...             ...   \n",
              "2540028           4                 2                 2               2   \n",
              "2540029           4                 2                 2               2   \n",
              "2540037           4                 2                 2               2   \n",
              "2540038           2                 2                 2               2   \n",
              "2540041           2                 2                 2               2   \n",
              "\n",
              "        attack_cat  label  \n",
              "1              NaN      0  \n",
              "5              NaN      0  \n",
              "7              NaN      0  \n",
              "10             NaN      0  \n",
              "11             NaN      0  \n",
              "...            ...    ...  \n",
              "2540028   Exploits      1  \n",
              "2540029        DoS      1  \n",
              "2540037        NaN      0  \n",
              "2540038        NaN      0  \n",
              "2540041        NaN      0  \n",
              "\n",
              "[1246397 rows x 49 columns]"
            ]
          },
          "execution_count": 8,
          "metadata": {},
          "output_type": "execute_result"
        }
      ],
      "source": [
        "data[data['service']=='-']"
      ]
    },
    {
      "cell_type": "code",
      "execution_count": 9,
      "metadata": {
        "id": "ySdfpAsaCabg"
      },
      "outputs": [],
      "source": [
        "data['service'].replace('-',np.nan,inplace=True)"
      ]
    },
    {
      "cell_type": "code",
      "execution_count": 10,
      "metadata": {
        "colab": {
          "base_uri": "https://localhost:8080/"
        },
        "id": "zO7VNaGKDYDA",
        "outputId": "71d063d1-13b0-4391-cd12-5551e170c907"
      },
      "outputs": [
        {
          "data": {
            "text/plain": [
              "srcip                     0\n",
              "sport                     0\n",
              "dstip                     0\n",
              "dsport                    0\n",
              "proto                     0\n",
              "state                     0\n",
              "dur                       0\n",
              "sbytes                    0\n",
              "dbytes                    0\n",
              "sttl                      0\n",
              "dttl                      0\n",
              "sloss                     0\n",
              "dloss                     0\n",
              "service             1246397\n",
              "Sload                     0\n",
              "Dload                     0\n",
              "Spkts                     0\n",
              "Dpkts                     0\n",
              "swin                      0\n",
              "dwin                      0\n",
              "stcpb                     0\n",
              "dtcpb                     0\n",
              "smeansz                   0\n",
              "dmeansz                   0\n",
              "trans_depth               0\n",
              "res_bdy_len               0\n",
              "Sjit                      0\n",
              "Djit                      0\n",
              "Stime                     0\n",
              "Ltime                     0\n",
              "Sintpkt                   0\n",
              "Dintpkt                   0\n",
              "tcprtt                    0\n",
              "synack                    0\n",
              "ackdat                    0\n",
              "is_sm_ips_ports           0\n",
              "ct_state_ttl              0\n",
              "ct_flw_http_mthd    1348145\n",
              "is_ftp_login        1429879\n",
              "ct_ftp_cmd                0\n",
              "ct_srv_src                0\n",
              "ct_srv_dst                0\n",
              "ct_dst_ltm                0\n",
              "ct_src_ltm                0\n",
              "ct_src_dport_ltm          0\n",
              "ct_dst_sport_ltm          0\n",
              "ct_dst_src_ltm            0\n",
              "attack_cat          2218764\n",
              "label                     0\n",
              "dtype: int64"
            ]
          },
          "execution_count": 10,
          "metadata": {},
          "output_type": "execute_result"
        }
      ],
      "source": [
        "data.isnull().sum()"
      ]
    },
    {
      "cell_type": "code",
      "execution_count": 11,
      "metadata": {
        "colab": {
          "base_uri": "https://localhost:8080/"
        },
        "id": "p1rm-THJD71O",
        "outputId": "833a6478-926f-46af-e224-5a7dbf9a75fa"
      },
      "outputs": [
        {
          "data": {
            "text/plain": [
              "(2540047, 49)"
            ]
          },
          "execution_count": 11,
          "metadata": {},
          "output_type": "execute_result"
        }
      ],
      "source": [
        "data.shape"
      ]
    },
    {
      "cell_type": "code",
      "execution_count": 12,
      "metadata": {
        "id": "qIPIPT0PD1b_"
      },
      "outputs": [],
      "source": [
        "data.dropna(inplace=True)"
      ]
    },
    {
      "cell_type": "code",
      "execution_count": 13,
      "metadata": {
        "colab": {
          "base_uri": "https://localhost:8080/"
        },
        "id": "PCdLLz3EEkfd",
        "outputId": "aa346e0e-2fa8-4d19-cce6-4224ec2941ab"
      },
      "outputs": [
        {
          "data": {
            "text/plain": [
              "(10496, 49)"
            ]
          },
          "execution_count": 13,
          "metadata": {},
          "output_type": "execute_result"
        }
      ],
      "source": [
        "data.shape"
      ]
    },
    {
      "cell_type": "code",
      "execution_count": 14,
      "metadata": {},
      "outputs": [
        {
          "data": {
            "text/plain": [
              "label\n",
              "1    10496\n",
              "Name: count, dtype: int64"
            ]
          },
          "execution_count": 14,
          "metadata": {},
          "output_type": "execute_result"
        }
      ],
      "source": [
        "data['label'].value_counts()"
      ]
    },
    {
      "cell_type": "code",
      "execution_count": 15,
      "metadata": {
        "colab": {
          "base_uri": "https://localhost:8080/"
        },
        "id": "sJNxMEoqbYvG",
        "outputId": "7bb21df1-c32f-4b17-f86e-fc7165b7c980"
      },
      "outputs": [
        {
          "data": {
            "text/plain": [
              "attack_cat\n",
              "Generic           7171\n",
              "Exploits          2371\n",
              " Fuzzers           441\n",
              "DoS                262\n",
              "Reconnaissance     226\n",
              "Worms               17\n",
              "Backdoors            8\n",
              "Name: count, dtype: int64"
            ]
          },
          "execution_count": 15,
          "metadata": {},
          "output_type": "execute_result"
        }
      ],
      "source": [
        "data['attack_cat'].value_counts()"
      ]
    },
    {
      "cell_type": "code",
      "execution_count": 16,
      "metadata": {
        "colab": {
          "base_uri": "https://localhost:8080/"
        },
        "id": "rFnIMHYxcYWW",
        "outputId": "b24711a9-6d26-468b-e724-169a758fb489"
      },
      "outputs": [
        {
          "data": {
            "text/plain": [
              "state\n",
              "INT    6991\n",
              "FIN    3459\n",
              "CON      40\n",
              "REQ       6\n",
              "Name: count, dtype: int64"
            ]
          },
          "execution_count": 16,
          "metadata": {},
          "output_type": "execute_result"
        }
      ],
      "source": [
        "data['state'].value_counts()"
      ]
    },
    {
      "cell_type": "code",
      "execution_count": 17,
      "metadata": {
        "colab": {
          "base_uri": "https://localhost:8080/",
          "height": 439
        },
        "id": "O3-FL4ETdp4d",
        "outputId": "5be2c7ec-51e3-4de0-ceee-f1c2cd40ae77"
      },
      "outputs": [
        {
          "data": {
            "text/html": [
              "<div>\n",
              "<style scoped>\n",
              "    .dataframe tbody tr th:only-of-type {\n",
              "        vertical-align: middle;\n",
              "    }\n",
              "\n",
              "    .dataframe tbody tr th {\n",
              "        vertical-align: top;\n",
              "    }\n",
              "\n",
              "    .dataframe thead th {\n",
              "        text-align: right;\n",
              "    }\n",
              "</style>\n",
              "<table border=\"1\" class=\"dataframe\">\n",
              "  <thead>\n",
              "    <tr style=\"text-align: right;\">\n",
              "      <th></th>\n",
              "      <th>srcip</th>\n",
              "      <th>sport</th>\n",
              "      <th>dstip</th>\n",
              "      <th>dsport</th>\n",
              "      <th>proto</th>\n",
              "      <th>state</th>\n",
              "      <th>dur</th>\n",
              "      <th>sbytes</th>\n",
              "      <th>dbytes</th>\n",
              "      <th>sttl</th>\n",
              "      <th>dttl</th>\n",
              "      <th>sloss</th>\n",
              "      <th>dloss</th>\n",
              "      <th>service</th>\n",
              "      <th>Sload</th>\n",
              "      <th>Dload</th>\n",
              "      <th>Spkts</th>\n",
              "      <th>Dpkts</th>\n",
              "      <th>swin</th>\n",
              "      <th>dwin</th>\n",
              "      <th>stcpb</th>\n",
              "      <th>dtcpb</th>\n",
              "      <th>smeansz</th>\n",
              "      <th>dmeansz</th>\n",
              "      <th>trans_depth</th>\n",
              "      <th>res_bdy_len</th>\n",
              "      <th>Sjit</th>\n",
              "      <th>Djit</th>\n",
              "      <th>Stime</th>\n",
              "      <th>Ltime</th>\n",
              "      <th>Sintpkt</th>\n",
              "      <th>Dintpkt</th>\n",
              "      <th>tcprtt</th>\n",
              "      <th>synack</th>\n",
              "      <th>ackdat</th>\n",
              "      <th>is_sm_ips_ports</th>\n",
              "      <th>ct_state_ttl</th>\n",
              "      <th>ct_flw_http_mthd</th>\n",
              "      <th>is_ftp_login</th>\n",
              "      <th>ct_ftp_cmd</th>\n",
              "      <th>ct_srv_src</th>\n",
              "      <th>ct_srv_dst</th>\n",
              "      <th>ct_dst_ltm</th>\n",
              "      <th>ct_src_ltm</th>\n",
              "      <th>ct_src_dport_ltm</th>\n",
              "      <th>ct_dst_sport_ltm</th>\n",
              "      <th>ct_dst_src_ltm</th>\n",
              "      <th>attack_cat</th>\n",
              "      <th>label</th>\n",
              "    </tr>\n",
              "  </thead>\n",
              "  <tbody>\n",
              "    <tr>\n",
              "      <th>21</th>\n",
              "      <td>175.45.176.2</td>\n",
              "      <td>23357</td>\n",
              "      <td>149.171.126.16</td>\n",
              "      <td>80</td>\n",
              "      <td>tcp</td>\n",
              "      <td>FIN</td>\n",
              "      <td>0.240139</td>\n",
              "      <td>918</td>\n",
              "      <td>25552</td>\n",
              "      <td>62</td>\n",
              "      <td>252</td>\n",
              "      <td>2</td>\n",
              "      <td>10</td>\n",
              "      <td>http</td>\n",
              "      <td>2.805042e+04</td>\n",
              "      <td>815794.187500</td>\n",
              "      <td>12</td>\n",
              "      <td>24</td>\n",
              "      <td>255</td>\n",
              "      <td>255</td>\n",
              "      <td>1708297952</td>\n",
              "      <td>1939490744</td>\n",
              "      <td>77</td>\n",
              "      <td>1065</td>\n",
              "      <td>1</td>\n",
              "      <td>12026</td>\n",
              "      <td>1170.481668</td>\n",
              "      <td>1144.383360</td>\n",
              "      <td>1421927416</td>\n",
              "      <td>1421927416</td>\n",
              "      <td>21.830818</td>\n",
              "      <td>9.570304</td>\n",
              "      <td>0.051475</td>\n",
              "      <td>0.006528</td>\n",
              "      <td>0.044947</td>\n",
              "      <td>0</td>\n",
              "      <td>1</td>\n",
              "      <td>1.0</td>\n",
              "      <td>0.0</td>\n",
              "      <td>0</td>\n",
              "      <td>3</td>\n",
              "      <td>2</td>\n",
              "      <td>2</td>\n",
              "      <td>1</td>\n",
              "      <td>1</td>\n",
              "      <td>1</td>\n",
              "      <td>1</td>\n",
              "      <td>Exploits</td>\n",
              "      <td>1</td>\n",
              "    </tr>\n",
              "    <tr>\n",
              "      <th>22</th>\n",
              "      <td>175.45.176.0</td>\n",
              "      <td>13284</td>\n",
              "      <td>149.171.126.16</td>\n",
              "      <td>80</td>\n",
              "      <td>tcp</td>\n",
              "      <td>FIN</td>\n",
              "      <td>2.390390</td>\n",
              "      <td>1362</td>\n",
              "      <td>268</td>\n",
              "      <td>254</td>\n",
              "      <td>252</td>\n",
              "      <td>6</td>\n",
              "      <td>1</td>\n",
              "      <td>http</td>\n",
              "      <td>4.233619e+03</td>\n",
              "      <td>749.668518</td>\n",
              "      <td>14</td>\n",
              "      <td>6</td>\n",
              "      <td>255</td>\n",
              "      <td>255</td>\n",
              "      <td>3897219059</td>\n",
              "      <td>2466816006</td>\n",
              "      <td>97</td>\n",
              "      <td>45</td>\n",
              "      <td>1</td>\n",
              "      <td>0</td>\n",
              "      <td>18786.711400</td>\n",
              "      <td>941.724938</td>\n",
              "      <td>1421927414</td>\n",
              "      <td>1421927416</td>\n",
              "      <td>183.579303</td>\n",
              "      <td>474.259406</td>\n",
              "      <td>0.066088</td>\n",
              "      <td>0.017959</td>\n",
              "      <td>0.048129</td>\n",
              "      <td>0</td>\n",
              "      <td>1</td>\n",
              "      <td>1.0</td>\n",
              "      <td>0.0</td>\n",
              "      <td>0</td>\n",
              "      <td>5</td>\n",
              "      <td>2</td>\n",
              "      <td>2</td>\n",
              "      <td>1</td>\n",
              "      <td>1</td>\n",
              "      <td>1</td>\n",
              "      <td>1</td>\n",
              "      <td>Reconnaissance</td>\n",
              "      <td>1</td>\n",
              "    </tr>\n",
              "    <tr>\n",
              "      <th>40</th>\n",
              "      <td>175.45.176.2</td>\n",
              "      <td>26939</td>\n",
              "      <td>149.171.126.10</td>\n",
              "      <td>80</td>\n",
              "      <td>tcp</td>\n",
              "      <td>FIN</td>\n",
              "      <td>0.190600</td>\n",
              "      <td>844</td>\n",
              "      <td>268</td>\n",
              "      <td>254</td>\n",
              "      <td>252</td>\n",
              "      <td>2</td>\n",
              "      <td>1</td>\n",
              "      <td>http</td>\n",
              "      <td>3.189927e+04</td>\n",
              "      <td>9401.888672</td>\n",
              "      <td>10</td>\n",
              "      <td>6</td>\n",
              "      <td>255</td>\n",
              "      <td>255</td>\n",
              "      <td>3006332195</td>\n",
              "      <td>1452987536</td>\n",
              "      <td>84</td>\n",
              "      <td>45</td>\n",
              "      <td>1</td>\n",
              "      <td>0</td>\n",
              "      <td>996.632407</td>\n",
              "      <td>59.532129</td>\n",
              "      <td>1421927418</td>\n",
              "      <td>1421927418</td>\n",
              "      <td>18.573778</td>\n",
              "      <td>36.845602</td>\n",
              "      <td>0.050675</td>\n",
              "      <td>0.006354</td>\n",
              "      <td>0.044321</td>\n",
              "      <td>0</td>\n",
              "      <td>1</td>\n",
              "      <td>1.0</td>\n",
              "      <td>0.0</td>\n",
              "      <td>0</td>\n",
              "      <td>3</td>\n",
              "      <td>1</td>\n",
              "      <td>1</td>\n",
              "      <td>1</td>\n",
              "      <td>1</td>\n",
              "      <td>1</td>\n",
              "      <td>1</td>\n",
              "      <td>Exploits</td>\n",
              "      <td>1</td>\n",
              "    </tr>\n",
              "    <tr>\n",
              "      <th>57</th>\n",
              "      <td>175.45.176.0</td>\n",
              "      <td>39500</td>\n",
              "      <td>149.171.126.15</td>\n",
              "      <td>80</td>\n",
              "      <td>tcp</td>\n",
              "      <td>FIN</td>\n",
              "      <td>0.177449</td>\n",
              "      <td>1214</td>\n",
              "      <td>268</td>\n",
              "      <td>254</td>\n",
              "      <td>252</td>\n",
              "      <td>2</td>\n",
              "      <td>1</td>\n",
              "      <td>http</td>\n",
              "      <td>4.927613e+04</td>\n",
              "      <td>10098.675780</td>\n",
              "      <td>10</td>\n",
              "      <td>6</td>\n",
              "      <td>255</td>\n",
              "      <td>255</td>\n",
              "      <td>366102997</td>\n",
              "      <td>2277661750</td>\n",
              "      <td>121</td>\n",
              "      <td>45</td>\n",
              "      <td>1</td>\n",
              "      <td>0</td>\n",
              "      <td>1020.236764</td>\n",
              "      <td>62.002961</td>\n",
              "      <td>1421927419</td>\n",
              "      <td>1421927419</td>\n",
              "      <td>19.203667</td>\n",
              "      <td>34.071199</td>\n",
              "      <td>0.051980</td>\n",
              "      <td>0.007076</td>\n",
              "      <td>0.044904</td>\n",
              "      <td>0</td>\n",
              "      <td>1</td>\n",
              "      <td>1.0</td>\n",
              "      <td>0.0</td>\n",
              "      <td>0</td>\n",
              "      <td>5</td>\n",
              "      <td>2</td>\n",
              "      <td>1</td>\n",
              "      <td>1</td>\n",
              "      <td>1</td>\n",
              "      <td>1</td>\n",
              "      <td>1</td>\n",
              "      <td>DoS</td>\n",
              "      <td>1</td>\n",
              "    </tr>\n",
              "    <tr>\n",
              "      <th>77</th>\n",
              "      <td>175.45.176.0</td>\n",
              "      <td>61089</td>\n",
              "      <td>149.171.126.18</td>\n",
              "      <td>80</td>\n",
              "      <td>tcp</td>\n",
              "      <td>FIN</td>\n",
              "      <td>0.291485</td>\n",
              "      <td>804</td>\n",
              "      <td>948</td>\n",
              "      <td>62</td>\n",
              "      <td>252</td>\n",
              "      <td>2</td>\n",
              "      <td>2</td>\n",
              "      <td>http</td>\n",
              "      <td>1.987066e+04</td>\n",
              "      <td>22779.902340</td>\n",
              "      <td>10</td>\n",
              "      <td>8</td>\n",
              "      <td>255</td>\n",
              "      <td>255</td>\n",
              "      <td>680695067</td>\n",
              "      <td>4039411526</td>\n",
              "      <td>80</td>\n",
              "      <td>119</td>\n",
              "      <td>1</td>\n",
              "      <td>72</td>\n",
              "      <td>1595.821133</td>\n",
              "      <td>57.742824</td>\n",
              "      <td>1421927421</td>\n",
              "      <td>1421927421</td>\n",
              "      <td>32.387222</td>\n",
              "      <td>39.581855</td>\n",
              "      <td>0.062967</td>\n",
              "      <td>0.013476</td>\n",
              "      <td>0.049491</td>\n",
              "      <td>0</td>\n",
              "      <td>1</td>\n",
              "      <td>1.0</td>\n",
              "      <td>0.0</td>\n",
              "      <td>0</td>\n",
              "      <td>5</td>\n",
              "      <td>2</td>\n",
              "      <td>1</td>\n",
              "      <td>1</td>\n",
              "      <td>1</td>\n",
              "      <td>1</td>\n",
              "      <td>1</td>\n",
              "      <td>Exploits</td>\n",
              "      <td>1</td>\n",
              "    </tr>\n",
              "    <tr>\n",
              "      <th>...</th>\n",
              "      <td>...</td>\n",
              "      <td>...</td>\n",
              "      <td>...</td>\n",
              "      <td>...</td>\n",
              "      <td>...</td>\n",
              "      <td>...</td>\n",
              "      <td>...</td>\n",
              "      <td>...</td>\n",
              "      <td>...</td>\n",
              "      <td>...</td>\n",
              "      <td>...</td>\n",
              "      <td>...</td>\n",
              "      <td>...</td>\n",
              "      <td>...</td>\n",
              "      <td>...</td>\n",
              "      <td>...</td>\n",
              "      <td>...</td>\n",
              "      <td>...</td>\n",
              "      <td>...</td>\n",
              "      <td>...</td>\n",
              "      <td>...</td>\n",
              "      <td>...</td>\n",
              "      <td>...</td>\n",
              "      <td>...</td>\n",
              "      <td>...</td>\n",
              "      <td>...</td>\n",
              "      <td>...</td>\n",
              "      <td>...</td>\n",
              "      <td>...</td>\n",
              "      <td>...</td>\n",
              "      <td>...</td>\n",
              "      <td>...</td>\n",
              "      <td>...</td>\n",
              "      <td>...</td>\n",
              "      <td>...</td>\n",
              "      <td>...</td>\n",
              "      <td>...</td>\n",
              "      <td>...</td>\n",
              "      <td>...</td>\n",
              "      <td>...</td>\n",
              "      <td>...</td>\n",
              "      <td>...</td>\n",
              "      <td>...</td>\n",
              "      <td>...</td>\n",
              "      <td>...</td>\n",
              "      <td>...</td>\n",
              "      <td>...</td>\n",
              "      <td>...</td>\n",
              "      <td>...</td>\n",
              "    </tr>\n",
              "    <tr>\n",
              "      <th>172557</th>\n",
              "      <td>175.45.176.1</td>\n",
              "      <td>1043</td>\n",
              "      <td>149.171.126.18</td>\n",
              "      <td>53</td>\n",
              "      <td>udp</td>\n",
              "      <td>INT</td>\n",
              "      <td>0.000011</td>\n",
              "      <td>114</td>\n",
              "      <td>0</td>\n",
              "      <td>254</td>\n",
              "      <td>0</td>\n",
              "      <td>0</td>\n",
              "      <td>0</td>\n",
              "      <td>dns</td>\n",
              "      <td>4.145454e+07</td>\n",
              "      <td>0.000000</td>\n",
              "      <td>2</td>\n",
              "      <td>0</td>\n",
              "      <td>0</td>\n",
              "      <td>0</td>\n",
              "      <td>0</td>\n",
              "      <td>0</td>\n",
              "      <td>57</td>\n",
              "      <td>0</td>\n",
              "      <td>0</td>\n",
              "      <td>0</td>\n",
              "      <td>0.000000</td>\n",
              "      <td>0.000000</td>\n",
              "      <td>1421933839</td>\n",
              "      <td>1421933839</td>\n",
              "      <td>0.011000</td>\n",
              "      <td>0.000000</td>\n",
              "      <td>0.000000</td>\n",
              "      <td>0.000000</td>\n",
              "      <td>0.000000</td>\n",
              "      <td>0</td>\n",
              "      <td>2</td>\n",
              "      <td>0.0</td>\n",
              "      <td>0.0</td>\n",
              "      <td>0</td>\n",
              "      <td>7</td>\n",
              "      <td>7</td>\n",
              "      <td>7</td>\n",
              "      <td>7</td>\n",
              "      <td>7</td>\n",
              "      <td>3</td>\n",
              "      <td>7</td>\n",
              "      <td>Generic</td>\n",
              "      <td>1</td>\n",
              "    </tr>\n",
              "    <tr>\n",
              "      <th>172559</th>\n",
              "      <td>175.45.176.1</td>\n",
              "      <td>47439</td>\n",
              "      <td>149.171.126.18</td>\n",
              "      <td>53</td>\n",
              "      <td>udp</td>\n",
              "      <td>INT</td>\n",
              "      <td>0.000010</td>\n",
              "      <td>114</td>\n",
              "      <td>0</td>\n",
              "      <td>254</td>\n",
              "      <td>0</td>\n",
              "      <td>0</td>\n",
              "      <td>0</td>\n",
              "      <td>dns</td>\n",
              "      <td>4.560000e+07</td>\n",
              "      <td>0.000000</td>\n",
              "      <td>2</td>\n",
              "      <td>0</td>\n",
              "      <td>0</td>\n",
              "      <td>0</td>\n",
              "      <td>0</td>\n",
              "      <td>0</td>\n",
              "      <td>57</td>\n",
              "      <td>0</td>\n",
              "      <td>0</td>\n",
              "      <td>0</td>\n",
              "      <td>0.000000</td>\n",
              "      <td>0.000000</td>\n",
              "      <td>1421933839</td>\n",
              "      <td>1421933839</td>\n",
              "      <td>0.010000</td>\n",
              "      <td>0.000000</td>\n",
              "      <td>0.000000</td>\n",
              "      <td>0.000000</td>\n",
              "      <td>0.000000</td>\n",
              "      <td>0</td>\n",
              "      <td>2</td>\n",
              "      <td>0.0</td>\n",
              "      <td>0.0</td>\n",
              "      <td>0</td>\n",
              "      <td>7</td>\n",
              "      <td>7</td>\n",
              "      <td>7</td>\n",
              "      <td>7</td>\n",
              "      <td>7</td>\n",
              "      <td>4</td>\n",
              "      <td>7</td>\n",
              "      <td>Generic</td>\n",
              "      <td>1</td>\n",
              "    </tr>\n",
              "    <tr>\n",
              "      <th>172560</th>\n",
              "      <td>175.45.176.1</td>\n",
              "      <td>47439</td>\n",
              "      <td>149.171.126.18</td>\n",
              "      <td>53</td>\n",
              "      <td>udp</td>\n",
              "      <td>INT</td>\n",
              "      <td>0.000010</td>\n",
              "      <td>114</td>\n",
              "      <td>0</td>\n",
              "      <td>254</td>\n",
              "      <td>0</td>\n",
              "      <td>0</td>\n",
              "      <td>0</td>\n",
              "      <td>dns</td>\n",
              "      <td>4.560000e+07</td>\n",
              "      <td>0.000000</td>\n",
              "      <td>2</td>\n",
              "      <td>0</td>\n",
              "      <td>0</td>\n",
              "      <td>0</td>\n",
              "      <td>0</td>\n",
              "      <td>0</td>\n",
              "      <td>57</td>\n",
              "      <td>0</td>\n",
              "      <td>0</td>\n",
              "      <td>0</td>\n",
              "      <td>0.000000</td>\n",
              "      <td>0.000000</td>\n",
              "      <td>1421933839</td>\n",
              "      <td>1421933839</td>\n",
              "      <td>0.010000</td>\n",
              "      <td>0.000000</td>\n",
              "      <td>0.000000</td>\n",
              "      <td>0.000000</td>\n",
              "      <td>0.000000</td>\n",
              "      <td>0</td>\n",
              "      <td>2</td>\n",
              "      <td>0.0</td>\n",
              "      <td>0.0</td>\n",
              "      <td>0</td>\n",
              "      <td>7</td>\n",
              "      <td>7</td>\n",
              "      <td>7</td>\n",
              "      <td>7</td>\n",
              "      <td>7</td>\n",
              "      <td>4</td>\n",
              "      <td>7</td>\n",
              "      <td>Generic</td>\n",
              "      <td>1</td>\n",
              "    </tr>\n",
              "    <tr>\n",
              "      <th>183020</th>\n",
              "      <td>175.45.176.2</td>\n",
              "      <td>137</td>\n",
              "      <td>149.171.126.11</td>\n",
              "      <td>137</td>\n",
              "      <td>udp</td>\n",
              "      <td>INT</td>\n",
              "      <td>4.743202</td>\n",
              "      <td>8736</td>\n",
              "      <td>0</td>\n",
              "      <td>254</td>\n",
              "      <td>0</td>\n",
              "      <td>0</td>\n",
              "      <td>0</td>\n",
              "      <td>dns</td>\n",
              "      <td>1.460279e+04</td>\n",
              "      <td>0.000000</td>\n",
              "      <td>112</td>\n",
              "      <td>0</td>\n",
              "      <td>0</td>\n",
              "      <td>0</td>\n",
              "      <td>0</td>\n",
              "      <td>0</td>\n",
              "      <td>78</td>\n",
              "      <td>0</td>\n",
              "      <td>0</td>\n",
              "      <td>0</td>\n",
              "      <td>79.256563</td>\n",
              "      <td>0.000000</td>\n",
              "      <td>1421934294</td>\n",
              "      <td>1421934299</td>\n",
              "      <td>42.731551</td>\n",
              "      <td>0.000000</td>\n",
              "      <td>0.000000</td>\n",
              "      <td>0.000000</td>\n",
              "      <td>0.000000</td>\n",
              "      <td>0</td>\n",
              "      <td>2</td>\n",
              "      <td>0.0</td>\n",
              "      <td>0.0</td>\n",
              "      <td>0</td>\n",
              "      <td>1</td>\n",
              "      <td>1</td>\n",
              "      <td>1</td>\n",
              "      <td>1</td>\n",
              "      <td>1</td>\n",
              "      <td>1</td>\n",
              "      <td>1</td>\n",
              "      <td>Fuzzers</td>\n",
              "      <td>1</td>\n",
              "    </tr>\n",
              "    <tr>\n",
              "      <th>183021</th>\n",
              "      <td>175.45.176.2</td>\n",
              "      <td>137</td>\n",
              "      <td>149.171.126.11</td>\n",
              "      <td>137</td>\n",
              "      <td>udp</td>\n",
              "      <td>INT</td>\n",
              "      <td>4.743202</td>\n",
              "      <td>8736</td>\n",
              "      <td>0</td>\n",
              "      <td>254</td>\n",
              "      <td>0</td>\n",
              "      <td>0</td>\n",
              "      <td>0</td>\n",
              "      <td>dns</td>\n",
              "      <td>1.460279e+04</td>\n",
              "      <td>0.000000</td>\n",
              "      <td>112</td>\n",
              "      <td>0</td>\n",
              "      <td>0</td>\n",
              "      <td>0</td>\n",
              "      <td>0</td>\n",
              "      <td>0</td>\n",
              "      <td>78</td>\n",
              "      <td>0</td>\n",
              "      <td>0</td>\n",
              "      <td>0</td>\n",
              "      <td>79.256563</td>\n",
              "      <td>0.000000</td>\n",
              "      <td>1421934294</td>\n",
              "      <td>1421934299</td>\n",
              "      <td>42.731551</td>\n",
              "      <td>0.000000</td>\n",
              "      <td>0.000000</td>\n",
              "      <td>0.000000</td>\n",
              "      <td>0.000000</td>\n",
              "      <td>0</td>\n",
              "      <td>2</td>\n",
              "      <td>0.0</td>\n",
              "      <td>0.0</td>\n",
              "      <td>0</td>\n",
              "      <td>1</td>\n",
              "      <td>1</td>\n",
              "      <td>1</td>\n",
              "      <td>1</td>\n",
              "      <td>1</td>\n",
              "      <td>1</td>\n",
              "      <td>1</td>\n",
              "      <td>Fuzzers</td>\n",
              "      <td>1</td>\n",
              "    </tr>\n",
              "  </tbody>\n",
              "</table>\n",
              "<p>10496 rows × 49 columns</p>\n",
              "</div>"
            ],
            "text/plain": [
              "               srcip  sport           dstip dsport proto state       dur  \\\n",
              "21      175.45.176.2  23357  149.171.126.16     80   tcp   FIN  0.240139   \n",
              "22      175.45.176.0  13284  149.171.126.16     80   tcp   FIN  2.390390   \n",
              "40      175.45.176.2  26939  149.171.126.10     80   tcp   FIN  0.190600   \n",
              "57      175.45.176.0  39500  149.171.126.15     80   tcp   FIN  0.177449   \n",
              "77      175.45.176.0  61089  149.171.126.18     80   tcp   FIN  0.291485   \n",
              "...              ...    ...             ...    ...   ...   ...       ...   \n",
              "172557  175.45.176.1   1043  149.171.126.18     53   udp   INT  0.000011   \n",
              "172559  175.45.176.1  47439  149.171.126.18     53   udp   INT  0.000010   \n",
              "172560  175.45.176.1  47439  149.171.126.18     53   udp   INT  0.000010   \n",
              "183020  175.45.176.2    137  149.171.126.11    137   udp   INT  4.743202   \n",
              "183021  175.45.176.2    137  149.171.126.11    137   udp   INT  4.743202   \n",
              "\n",
              "        sbytes  dbytes  sttl  dttl  sloss  dloss service         Sload  \\\n",
              "21         918   25552    62   252      2     10    http  2.805042e+04   \n",
              "22        1362     268   254   252      6      1    http  4.233619e+03   \n",
              "40         844     268   254   252      2      1    http  3.189927e+04   \n",
              "57        1214     268   254   252      2      1    http  4.927613e+04   \n",
              "77         804     948    62   252      2      2    http  1.987066e+04   \n",
              "...        ...     ...   ...   ...    ...    ...     ...           ...   \n",
              "172557     114       0   254     0      0      0     dns  4.145454e+07   \n",
              "172559     114       0   254     0      0      0     dns  4.560000e+07   \n",
              "172560     114       0   254     0      0      0     dns  4.560000e+07   \n",
              "183020    8736       0   254     0      0      0     dns  1.460279e+04   \n",
              "183021    8736       0   254     0      0      0     dns  1.460279e+04   \n",
              "\n",
              "                Dload  Spkts  Dpkts  swin  dwin       stcpb       dtcpb  \\\n",
              "21      815794.187500     12     24   255   255  1708297952  1939490744   \n",
              "22         749.668518     14      6   255   255  3897219059  2466816006   \n",
              "40        9401.888672     10      6   255   255  3006332195  1452987536   \n",
              "57       10098.675780     10      6   255   255   366102997  2277661750   \n",
              "77       22779.902340     10      8   255   255   680695067  4039411526   \n",
              "...               ...    ...    ...   ...   ...         ...         ...   \n",
              "172557       0.000000      2      0     0     0           0           0   \n",
              "172559       0.000000      2      0     0     0           0           0   \n",
              "172560       0.000000      2      0     0     0           0           0   \n",
              "183020       0.000000    112      0     0     0           0           0   \n",
              "183021       0.000000    112      0     0     0           0           0   \n",
              "\n",
              "        smeansz  dmeansz  trans_depth  res_bdy_len          Sjit         Djit  \\\n",
              "21           77     1065            1        12026   1170.481668  1144.383360   \n",
              "22           97       45            1            0  18786.711400   941.724938   \n",
              "40           84       45            1            0    996.632407    59.532129   \n",
              "57          121       45            1            0   1020.236764    62.002961   \n",
              "77           80      119            1           72   1595.821133    57.742824   \n",
              "...         ...      ...          ...          ...           ...          ...   \n",
              "172557       57        0            0            0      0.000000     0.000000   \n",
              "172559       57        0            0            0      0.000000     0.000000   \n",
              "172560       57        0            0            0      0.000000     0.000000   \n",
              "183020       78        0            0            0     79.256563     0.000000   \n",
              "183021       78        0            0            0     79.256563     0.000000   \n",
              "\n",
              "             Stime       Ltime     Sintpkt     Dintpkt    tcprtt    synack  \\\n",
              "21      1421927416  1421927416   21.830818    9.570304  0.051475  0.006528   \n",
              "22      1421927414  1421927416  183.579303  474.259406  0.066088  0.017959   \n",
              "40      1421927418  1421927418   18.573778   36.845602  0.050675  0.006354   \n",
              "57      1421927419  1421927419   19.203667   34.071199  0.051980  0.007076   \n",
              "77      1421927421  1421927421   32.387222   39.581855  0.062967  0.013476   \n",
              "...            ...         ...         ...         ...       ...       ...   \n",
              "172557  1421933839  1421933839    0.011000    0.000000  0.000000  0.000000   \n",
              "172559  1421933839  1421933839    0.010000    0.000000  0.000000  0.000000   \n",
              "172560  1421933839  1421933839    0.010000    0.000000  0.000000  0.000000   \n",
              "183020  1421934294  1421934299   42.731551    0.000000  0.000000  0.000000   \n",
              "183021  1421934294  1421934299   42.731551    0.000000  0.000000  0.000000   \n",
              "\n",
              "          ackdat  is_sm_ips_ports  ct_state_ttl  ct_flw_http_mthd  \\\n",
              "21      0.044947                0             1               1.0   \n",
              "22      0.048129                0             1               1.0   \n",
              "40      0.044321                0             1               1.0   \n",
              "57      0.044904                0             1               1.0   \n",
              "77      0.049491                0             1               1.0   \n",
              "...          ...              ...           ...               ...   \n",
              "172557  0.000000                0             2               0.0   \n",
              "172559  0.000000                0             2               0.0   \n",
              "172560  0.000000                0             2               0.0   \n",
              "183020  0.000000                0             2               0.0   \n",
              "183021  0.000000                0             2               0.0   \n",
              "\n",
              "        is_ftp_login ct_ftp_cmd  ct_srv_src  ct_srv_dst  ct_dst_ltm  \\\n",
              "21               0.0          0           3           2           2   \n",
              "22               0.0          0           5           2           2   \n",
              "40               0.0          0           3           1           1   \n",
              "57               0.0          0           5           2           1   \n",
              "77               0.0          0           5           2           1   \n",
              "...              ...        ...         ...         ...         ...   \n",
              "172557           0.0          0           7           7           7   \n",
              "172559           0.0          0           7           7           7   \n",
              "172560           0.0          0           7           7           7   \n",
              "183020           0.0          0           1           1           1   \n",
              "183021           0.0          0           1           1           1   \n",
              "\n",
              "        ct_src_ltm  ct_src_dport_ltm  ct_dst_sport_ltm  ct_dst_src_ltm  \\\n",
              "21               1                 1                 1               1   \n",
              "22               1                 1                 1               1   \n",
              "40               1                 1                 1               1   \n",
              "57               1                 1                 1               1   \n",
              "77               1                 1                 1               1   \n",
              "...            ...               ...               ...             ...   \n",
              "172557           7                 7                 3               7   \n",
              "172559           7                 7                 4               7   \n",
              "172560           7                 7                 4               7   \n",
              "183020           1                 1                 1               1   \n",
              "183021           1                 1                 1               1   \n",
              "\n",
              "            attack_cat  label  \n",
              "21            Exploits      1  \n",
              "22      Reconnaissance      1  \n",
              "40            Exploits      1  \n",
              "57                 DoS      1  \n",
              "77            Exploits      1  \n",
              "...                ...    ...  \n",
              "172557         Generic      1  \n",
              "172559         Generic      1  \n",
              "172560         Generic      1  \n",
              "183020         Fuzzers      1  \n",
              "183021         Fuzzers      1  \n",
              "\n",
              "[10496 rows x 49 columns]"
            ]
          },
          "execution_count": 17,
          "metadata": {},
          "output_type": "execute_result"
        }
      ],
      "source": [
        "data"
      ]
    },
    {
      "cell_type": "code",
      "execution_count": 18,
      "metadata": {
        "id": "DGfimWMVFKmr"
      },
      "outputs": [
        {
          "ename": "UnicodeDecodeError",
          "evalue": "'utf-8' codec can't decode byte 0x92 in position 1646: invalid start byte",
          "output_type": "error",
          "traceback": [
            "\u001b[1;31m---------------------------------------------------------------------------\u001b[0m",
            "\u001b[1;31mUnicodeDecodeError\u001b[0m                        Traceback (most recent call last)",
            "Cell \u001b[1;32mIn[18], line 2\u001b[0m\n\u001b[0;32m      1\u001b[0m \u001b[38;5;66;03m#features = pd.read_csv('/content/drive/MyDrive/IoT_ML_Dataset/UNSW/UNSW_NB15_features.csv')\u001b[39;00m\n\u001b[1;32m----> 2\u001b[0m features \u001b[38;5;241m=\u001b[39m \u001b[43mpd\u001b[49m\u001b[38;5;241;43m.\u001b[39;49m\u001b[43mread_csv\u001b[49m\u001b[43m(\u001b[49m\u001b[38;5;124;43m'\u001b[39;49m\u001b[38;5;124;43m./CSV/NUSW-NB15_features.csv\u001b[39;49m\u001b[38;5;124;43m'\u001b[39;49m\u001b[43m)\u001b[49m\n",
            "File \u001b[1;32mc:\\Users\\hhi20\\anaconda3\\Lib\\site-packages\\pandas\\io\\parsers\\readers.py:948\u001b[0m, in \u001b[0;36mread_csv\u001b[1;34m(filepath_or_buffer, sep, delimiter, header, names, index_col, usecols, dtype, engine, converters, true_values, false_values, skipinitialspace, skiprows, skipfooter, nrows, na_values, keep_default_na, na_filter, verbose, skip_blank_lines, parse_dates, infer_datetime_format, keep_date_col, date_parser, date_format, dayfirst, cache_dates, iterator, chunksize, compression, thousands, decimal, lineterminator, quotechar, quoting, doublequote, escapechar, comment, encoding, encoding_errors, dialect, on_bad_lines, delim_whitespace, low_memory, memory_map, float_precision, storage_options, dtype_backend)\u001b[0m\n\u001b[0;32m    935\u001b[0m kwds_defaults \u001b[38;5;241m=\u001b[39m _refine_defaults_read(\n\u001b[0;32m    936\u001b[0m     dialect,\n\u001b[0;32m    937\u001b[0m     delimiter,\n\u001b[1;32m   (...)\u001b[0m\n\u001b[0;32m    944\u001b[0m     dtype_backend\u001b[38;5;241m=\u001b[39mdtype_backend,\n\u001b[0;32m    945\u001b[0m )\n\u001b[0;32m    946\u001b[0m kwds\u001b[38;5;241m.\u001b[39mupdate(kwds_defaults)\n\u001b[1;32m--> 948\u001b[0m \u001b[38;5;28;01mreturn\u001b[39;00m \u001b[43m_read\u001b[49m\u001b[43m(\u001b[49m\u001b[43mfilepath_or_buffer\u001b[49m\u001b[43m,\u001b[49m\u001b[43m \u001b[49m\u001b[43mkwds\u001b[49m\u001b[43m)\u001b[49m\n",
            "File \u001b[1;32mc:\\Users\\hhi20\\anaconda3\\Lib\\site-packages\\pandas\\io\\parsers\\readers.py:611\u001b[0m, in \u001b[0;36m_read\u001b[1;34m(filepath_or_buffer, kwds)\u001b[0m\n\u001b[0;32m    608\u001b[0m _validate_names(kwds\u001b[38;5;241m.\u001b[39mget(\u001b[38;5;124m\"\u001b[39m\u001b[38;5;124mnames\u001b[39m\u001b[38;5;124m\"\u001b[39m, \u001b[38;5;28;01mNone\u001b[39;00m))\n\u001b[0;32m    610\u001b[0m \u001b[38;5;66;03m# Create the parser.\u001b[39;00m\n\u001b[1;32m--> 611\u001b[0m parser \u001b[38;5;241m=\u001b[39m \u001b[43mTextFileReader\u001b[49m\u001b[43m(\u001b[49m\u001b[43mfilepath_or_buffer\u001b[49m\u001b[43m,\u001b[49m\u001b[43m \u001b[49m\u001b[38;5;241;43m*\u001b[39;49m\u001b[38;5;241;43m*\u001b[39;49m\u001b[43mkwds\u001b[49m\u001b[43m)\u001b[49m\n\u001b[0;32m    613\u001b[0m \u001b[38;5;28;01mif\u001b[39;00m chunksize \u001b[38;5;129;01mor\u001b[39;00m iterator:\n\u001b[0;32m    614\u001b[0m     \u001b[38;5;28;01mreturn\u001b[39;00m parser\n",
            "File \u001b[1;32mc:\\Users\\hhi20\\anaconda3\\Lib\\site-packages\\pandas\\io\\parsers\\readers.py:1448\u001b[0m, in \u001b[0;36mTextFileReader.__init__\u001b[1;34m(self, f, engine, **kwds)\u001b[0m\n\u001b[0;32m   1445\u001b[0m     \u001b[38;5;28mself\u001b[39m\u001b[38;5;241m.\u001b[39moptions[\u001b[38;5;124m\"\u001b[39m\u001b[38;5;124mhas_index_names\u001b[39m\u001b[38;5;124m\"\u001b[39m] \u001b[38;5;241m=\u001b[39m kwds[\u001b[38;5;124m\"\u001b[39m\u001b[38;5;124mhas_index_names\u001b[39m\u001b[38;5;124m\"\u001b[39m]\n\u001b[0;32m   1447\u001b[0m \u001b[38;5;28mself\u001b[39m\u001b[38;5;241m.\u001b[39mhandles: IOHandles \u001b[38;5;241m|\u001b[39m \u001b[38;5;28;01mNone\u001b[39;00m \u001b[38;5;241m=\u001b[39m \u001b[38;5;28;01mNone\u001b[39;00m\n\u001b[1;32m-> 1448\u001b[0m \u001b[38;5;28mself\u001b[39m\u001b[38;5;241m.\u001b[39m_engine \u001b[38;5;241m=\u001b[39m \u001b[38;5;28;43mself\u001b[39;49m\u001b[38;5;241;43m.\u001b[39;49m\u001b[43m_make_engine\u001b[49m\u001b[43m(\u001b[49m\u001b[43mf\u001b[49m\u001b[43m,\u001b[49m\u001b[43m \u001b[49m\u001b[38;5;28;43mself\u001b[39;49m\u001b[38;5;241;43m.\u001b[39;49m\u001b[43mengine\u001b[49m\u001b[43m)\u001b[49m\n",
            "File \u001b[1;32mc:\\Users\\hhi20\\anaconda3\\Lib\\site-packages\\pandas\\io\\parsers\\readers.py:1723\u001b[0m, in \u001b[0;36mTextFileReader._make_engine\u001b[1;34m(self, f, engine)\u001b[0m\n\u001b[0;32m   1720\u001b[0m     \u001b[38;5;28;01mraise\u001b[39;00m \u001b[38;5;167;01mValueError\u001b[39;00m(msg)\n\u001b[0;32m   1722\u001b[0m \u001b[38;5;28;01mtry\u001b[39;00m:\n\u001b[1;32m-> 1723\u001b[0m     \u001b[38;5;28;01mreturn\u001b[39;00m \u001b[43mmapping\u001b[49m\u001b[43m[\u001b[49m\u001b[43mengine\u001b[49m\u001b[43m]\u001b[49m\u001b[43m(\u001b[49m\u001b[43mf\u001b[49m\u001b[43m,\u001b[49m\u001b[43m \u001b[49m\u001b[38;5;241;43m*\u001b[39;49m\u001b[38;5;241;43m*\u001b[39;49m\u001b[38;5;28;43mself\u001b[39;49m\u001b[38;5;241;43m.\u001b[39;49m\u001b[43moptions\u001b[49m\u001b[43m)\u001b[49m\n\u001b[0;32m   1724\u001b[0m \u001b[38;5;28;01mexcept\u001b[39;00m \u001b[38;5;167;01mException\u001b[39;00m:\n\u001b[0;32m   1725\u001b[0m     \u001b[38;5;28;01mif\u001b[39;00m \u001b[38;5;28mself\u001b[39m\u001b[38;5;241m.\u001b[39mhandles \u001b[38;5;129;01mis\u001b[39;00m \u001b[38;5;129;01mnot\u001b[39;00m \u001b[38;5;28;01mNone\u001b[39;00m:\n",
            "File \u001b[1;32mc:\\Users\\hhi20\\anaconda3\\Lib\\site-packages\\pandas\\io\\parsers\\c_parser_wrapper.py:93\u001b[0m, in \u001b[0;36mCParserWrapper.__init__\u001b[1;34m(self, src, **kwds)\u001b[0m\n\u001b[0;32m     90\u001b[0m \u001b[38;5;28;01mif\u001b[39;00m kwds[\u001b[38;5;124m\"\u001b[39m\u001b[38;5;124mdtype_backend\u001b[39m\u001b[38;5;124m\"\u001b[39m] \u001b[38;5;241m==\u001b[39m \u001b[38;5;124m\"\u001b[39m\u001b[38;5;124mpyarrow\u001b[39m\u001b[38;5;124m\"\u001b[39m:\n\u001b[0;32m     91\u001b[0m     \u001b[38;5;66;03m# Fail here loudly instead of in cython after reading\u001b[39;00m\n\u001b[0;32m     92\u001b[0m     import_optional_dependency(\u001b[38;5;124m\"\u001b[39m\u001b[38;5;124mpyarrow\u001b[39m\u001b[38;5;124m\"\u001b[39m)\n\u001b[1;32m---> 93\u001b[0m \u001b[38;5;28mself\u001b[39m\u001b[38;5;241m.\u001b[39m_reader \u001b[38;5;241m=\u001b[39m \u001b[43mparsers\u001b[49m\u001b[38;5;241;43m.\u001b[39;49m\u001b[43mTextReader\u001b[49m\u001b[43m(\u001b[49m\u001b[43msrc\u001b[49m\u001b[43m,\u001b[49m\u001b[43m \u001b[49m\u001b[38;5;241;43m*\u001b[39;49m\u001b[38;5;241;43m*\u001b[39;49m\u001b[43mkwds\u001b[49m\u001b[43m)\u001b[49m\n\u001b[0;32m     95\u001b[0m \u001b[38;5;28mself\u001b[39m\u001b[38;5;241m.\u001b[39munnamed_cols \u001b[38;5;241m=\u001b[39m \u001b[38;5;28mself\u001b[39m\u001b[38;5;241m.\u001b[39m_reader\u001b[38;5;241m.\u001b[39munnamed_cols\n\u001b[0;32m     97\u001b[0m \u001b[38;5;66;03m# error: Cannot determine type of 'names'\u001b[39;00m\n",
            "File \u001b[1;32mparsers.pyx:579\u001b[0m, in \u001b[0;36mpandas._libs.parsers.TextReader.__cinit__\u001b[1;34m()\u001b[0m\n",
            "File \u001b[1;32mparsers.pyx:668\u001b[0m, in \u001b[0;36mpandas._libs.parsers.TextReader._get_header\u001b[1;34m()\u001b[0m\n",
            "File \u001b[1;32mparsers.pyx:879\u001b[0m, in \u001b[0;36mpandas._libs.parsers.TextReader._tokenize_rows\u001b[1;34m()\u001b[0m\n",
            "File \u001b[1;32mparsers.pyx:890\u001b[0m, in \u001b[0;36mpandas._libs.parsers.TextReader._check_tokenize_status\u001b[1;34m()\u001b[0m\n",
            "File \u001b[1;32mparsers.pyx:2050\u001b[0m, in \u001b[0;36mpandas._libs.parsers.raise_parser_error\u001b[1;34m()\u001b[0m\n",
            "\u001b[1;31mUnicodeDecodeError\u001b[0m: 'utf-8' codec can't decode byte 0x92 in position 1646: invalid start byte"
          ]
        }
      ],
      "source": [
        "#features = pd.read_csv('/content/drive/MyDrive/IoT_ML_Dataset/UNSW/UNSW_NB15_features.csv')\n",
        "features = pd.read_csv('./CSV/NUSW-NB15_features.csv')"
      ]
    },
    {
      "cell_type": "code",
      "execution_count": null,
      "metadata": {
        "colab": {
          "base_uri": "https://localhost:8080/",
          "height": 204
        },
        "id": "hrYdxinYvMP9",
        "outputId": "d0e10f0f-42f2-4edc-deee-a2fde81679cd"
      },
      "outputs": [
        {
          "ename": "",
          "evalue": "",
          "output_type": "error",
          "traceback": [
            "\u001b[1;31mRunning cells with 'pythonProject' requires the ipykernel package.\n",
            "\u001b[1;31mRun the following command to install 'ipykernel' into the Python environment. \n",
            "\u001b[1;31mCommand: 'conda install -n pythonProject ipykernel --update-deps --force-reinstall'"
          ]
        }
      ],
      "source": [
        "features.head()"
      ]
    },
    {
      "cell_type": "code",
      "execution_count": null,
      "metadata": {
        "id": "jT53NXCYfQDX"
      },
      "outputs": [
        {
          "ename": "",
          "evalue": "",
          "output_type": "error",
          "traceback": [
            "\u001b[1;31mRunning cells with 'pythonProject' requires the ipykernel package.\n",
            "\u001b[1;31mRun the following command to install 'ipykernel' into the Python environment. \n",
            "\u001b[1;31mCommand: 'conda install -n pythonProject ipykernel --update-deps --force-reinstall'"
          ]
        }
      ],
      "source": [
        "features['Type '] = features['Type '].str.lower()"
      ]
    },
    {
      "cell_type": "code",
      "execution_count": null,
      "metadata": {
        "id": "4UifBmzfc7Mx"
      },
      "outputs": [
        {
          "ename": "",
          "evalue": "",
          "output_type": "error",
          "traceback": [
            "\u001b[1;31mRunning cells with 'pythonProject' requires the ipykernel package.\n",
            "\u001b[1;31mRun the following command to install 'ipykernel' into the Python environment. \n",
            "\u001b[1;31mCommand: 'conda install -n pythonProject ipykernel --update-deps --force-reinstall'"
          ]
        }
      ],
      "source": [
        "# selecting column names of all data types\n",
        "nominal_names = features['Name'][features['Type ']=='nominal']\n",
        "integer_names = features['Name'][features['Type ']=='integer']\n",
        "binary_names = features['Name'][features['Type ']=='binary']\n",
        "float_names = features['Name'][features['Type ']=='float']"
      ]
    },
    {
      "cell_type": "code",
      "execution_count": null,
      "metadata": {
        "colab": {
          "background_save": true
        },
        "id": "Sc2ttPn6r7Tz"
      },
      "outputs": [
        {
          "ename": "",
          "evalue": "",
          "output_type": "error",
          "traceback": [
            "\u001b[1;31mRunning cells with 'pythonProject' requires the ipykernel package.\n",
            "\u001b[1;31mRun the following command to install 'ipykernel' into the Python environment. \n",
            "\u001b[1;31mCommand: 'conda install -n pythonProject ipykernel --update-deps --force-reinstall'"
          ]
        }
      ],
      "source": [
        "# selecting common column names from dataset and feature dataset\n",
        "cols = data.columns\n",
        "nominal_names = cols.intersection(nominal_names)\n",
        "integer_names = cols.intersection(integer_names)\n",
        "binary_names = cols.intersection(binary_names)\n",
        "float_names = cols.intersection(float_names)"
      ]
    },
    {
      "cell_type": "code",
      "execution_count": null,
      "metadata": {
        "colab": {
          "background_save": true
        },
        "id": "f-z_BVLyu0vE"
      },
      "outputs": [
        {
          "ename": "",
          "evalue": "",
          "output_type": "error",
          "traceback": [
            "\u001b[1;31mRunning cells with 'pythonProject' requires the ipykernel package.\n",
            "\u001b[1;31mRun the following command to install 'ipykernel' into the Python environment. \n",
            "\u001b[1;31mCommand: 'conda install -n pythonProject ipykernel --update-deps --force-reinstall'"
          ]
        }
      ],
      "source": [
        "# Converting integer columns to numeric\n",
        "for c in integer_names:\n",
        "  pd.to_numeric(data[c])"
      ]
    },
    {
      "cell_type": "code",
      "execution_count": null,
      "metadata": {
        "colab": {
          "background_save": true
        },
        "id": "hc_tnXdGvkpD"
      },
      "outputs": [
        {
          "ename": "",
          "evalue": "",
          "output_type": "error",
          "traceback": [
            "\u001b[1;31mRunning cells with 'pythonProject' requires the ipykernel package.\n",
            "\u001b[1;31mRun the following command to install 'ipykernel' into the Python environment. \n",
            "\u001b[1;31mCommand: 'conda install -n pythonProject ipykernel --update-deps --force-reinstall'"
          ]
        }
      ],
      "source": [
        "# Converting binary columns to numeric\n",
        "for c in binary_names:\n",
        "  pd.to_numeric(data[c])"
      ]
    },
    {
      "cell_type": "code",
      "execution_count": null,
      "metadata": {
        "colab": {
          "background_save": true
        },
        "id": "M3uJUVe9vpyx"
      },
      "outputs": [
        {
          "ename": "",
          "evalue": "",
          "output_type": "error",
          "traceback": [
            "\u001b[1;31mRunning cells with 'pythonProject' requires the ipykernel package.\n",
            "\u001b[1;31mRun the following command to install 'ipykernel' into the Python environment. \n",
            "\u001b[1;31mCommand: 'conda install -n pythonProject ipykernel --update-deps --force-reinstall'"
          ]
        }
      ],
      "source": [
        "# Converting float columns to numeric\n",
        "for c in float_names:\n",
        "  pd.to_numeric(data[c])"
      ]
    },
    {
      "cell_type": "code",
      "execution_count": null,
      "metadata": {
        "colab": {
          "background_save": true,
          "base_uri": "https://localhost:8080/"
        },
        "id": "JHfR566WrIr6",
        "outputId": "31a815e5-ef87-4748-c01a-0a2fe3bd85af"
      },
      "outputs": [
        {
          "ename": "",
          "evalue": "",
          "output_type": "error",
          "traceback": [
            "\u001b[1;31mRunning cells with 'pythonProject' requires the ipykernel package.\n",
            "\u001b[1;31mRun the following command to install 'ipykernel' into the Python environment. \n",
            "\u001b[1;31mCommand: 'conda install -n pythonProject ipykernel --update-deps --force-reinstall'"
          ]
        }
      ],
      "source": [
        "data.info()"
      ]
    },
    {
      "cell_type": "code",
      "execution_count": null,
      "metadata": {
        "colab": {
          "background_save": true,
          "base_uri": "https://localhost:8080/",
          "height": 439
        },
        "id": "heqj3TJmv2B4",
        "outputId": "ae5525e8-c1cc-4707-aa88-9b33a16a75ab"
      },
      "outputs": [
        {
          "ename": "",
          "evalue": "",
          "output_type": "error",
          "traceback": [
            "\u001b[1;31mRunning cells with 'pythonProject' requires the ipykernel package.\n",
            "\u001b[1;31mRun the following command to install 'ipykernel' into the Python environment. \n",
            "\u001b[1;31mCommand: 'conda install -n pythonProject ipykernel --update-deps --force-reinstall'"
          ]
        }
      ],
      "source": [
        "data"
      ]
    },
    {
      "cell_type": "markdown",
      "metadata": {
        "id": "jExFVizROS-C"
      },
      "source": [
        "# **Data Visualization**"
      ]
    },
    {
      "cell_type": "markdown",
      "metadata": {
        "id": "o9UEifPZoKC1"
      },
      "source": [
        "## **Binary Classification**"
      ]
    },
    {
      "cell_type": "code",
      "execution_count": null,
      "metadata": {},
      "outputs": [
        {
          "ename": "",
          "evalue": "",
          "output_type": "error",
          "traceback": [
            "\u001b[1;31mRunning cells with 'pythonProject' requires the ipykernel package.\n",
            "\u001b[1;31mRun the following command to install 'ipykernel' into the Python environment. \n",
            "\u001b[1;31mCommand: 'conda install -n pythonProject ipykernel --update-deps --force-reinstall'"
          ]
        }
      ],
      "source": [
        "data['label'].value_counts()"
      ]
    },
    {
      "cell_type": "code",
      "execution_count": null,
      "metadata": {
        "colab": {
          "background_save": true,
          "base_uri": "https://localhost:8080/",
          "height": 484
        },
        "id": "iDzUyKPRm4x3",
        "outputId": "605c803b-b14a-471a-f795-d2196d82a585"
      },
      "outputs": [
        {
          "ename": "",
          "evalue": "",
          "output_type": "error",
          "traceback": [
            "\u001b[1;31mRunning cells with 'pythonProject' requires the ipykernel package.\n",
            "\u001b[1;31mRun the following command to install 'ipykernel' into the Python environment. \n",
            "\u001b[1;31mCommand: 'conda install -n pythonProject ipykernel --update-deps --force-reinstall'"
          ]
        }
      ],
      "source": [
        "# plt.figure(figsize=(8,8))\n",
        "# plt.pie(data['label'].value_counts(),labels=['normal','abnormal'],autopct='%0.2f%%')\n",
        "# plt.title(\"Pie chart distribution of normal and abnormal labels\",fontsize=16)\n",
        "# plt.legend()\n",
        "# plt.savefig('plots/Pie_chart_binary.png')\n",
        "# plt.show()"
      ]
    },
    {
      "cell_type": "markdown",
      "metadata": {
        "id": "UXGvReKgoN57"
      },
      "source": [
        "## **Multi-class Classification**"
      ]
    },
    {
      "cell_type": "code",
      "execution_count": null,
      "metadata": {
        "colab": {
          "base_uri": "https://localhost:8080/",
          "height": 482
        },
        "id": "6hX-4d1dncqJ",
        "outputId": "8b260eb7-e34a-449f-8e4c-617bd59640e3"
      },
      "outputs": [
        {
          "ename": "",
          "evalue": "",
          "output_type": "error",
          "traceback": [
            "\u001b[1;31mRunning cells with 'pythonProject' requires the ipykernel package.\n",
            "\u001b[1;31mRun the following command to install 'ipykernel' into the Python environment. \n",
            "\u001b[1;31mCommand: 'conda install -n pythonProject ipykernel --update-deps --force-reinstall'"
          ]
        }
      ],
      "source": [
        "plt.figure(figsize=(8,8))\n",
        "plt.pie(data.attack_cat.value_counts(),labels=data.attack_cat.unique(),autopct='%0.2f%%')\n",
        "plt.title('Pie chart distribution of multi-class labels')\n",
        "plt.legend(loc='best')\n",
        "plt.savefig('plots/Pie_chart_multi.png')\n",
        "plt.show()"
      ]
    },
    {
      "cell_type": "markdown",
      "metadata": {
        "id": "ovwkzHTyM1vB"
      },
      "source": [
        "# **One hot encoding**"
      ]
    },
    {
      "cell_type": "code",
      "execution_count": null,
      "metadata": {
        "colab": {
          "base_uri": "https://localhost:8080/"
        },
        "id": "dZX0Je4EM5ta",
        "outputId": "fe11efcd-32e2-47dd-8a7c-529688e28712"
      },
      "outputs": [
        {
          "ename": "",
          "evalue": "",
          "output_type": "error",
          "traceback": [
            "\u001b[1;31mRunning cells with 'pythonProject' requires the ipykernel package.\n",
            "\u001b[1;31mRun the following command to install 'ipykernel' into the Python environment. \n",
            "\u001b[1;31mCommand: 'conda install -n pythonProject ipykernel --update-deps --force-reinstall'"
          ]
        }
      ],
      "source": [
        "num_col = data.select_dtypes(include='number').columns\n",
        "\n",
        "# selecting categorical data attributes\n",
        "cat_col = data.columns.difference(num_col)\n",
        "cat_col = cat_col[1:]\n",
        "cat_col"
      ]
    },
    {
      "cell_type": "code",
      "execution_count": null,
      "metadata": {
        "colab": {
          "base_uri": "https://localhost:8080/",
          "height": 204
        },
        "id": "DxnGrVa1Odma",
        "outputId": "59215629-bfda-424e-925a-5cc49a2402b4"
      },
      "outputs": [
        {
          "ename": "",
          "evalue": "",
          "output_type": "error",
          "traceback": [
            "\u001b[1;31mRunning cells with 'pythonProject' requires the ipykernel package.\n",
            "\u001b[1;31mRun the following command to install 'ipykernel' into the Python environment. \n",
            "\u001b[1;31mCommand: 'conda install -n pythonProject ipykernel --update-deps --force-reinstall'"
          ]
        }
      ],
      "source": [
        "# creating a dataframe with only categorical attributes\n",
        "data_cat = data[cat_col].copy()\n",
        "data_cat.head()"
      ]
    },
    {
      "cell_type": "code",
      "execution_count": null,
      "metadata": {
        "id": "E6cnwo01NHP_"
      },
      "outputs": [
        {
          "ename": "",
          "evalue": "",
          "output_type": "error",
          "traceback": [
            "\u001b[1;31mRunning cells with 'pythonProject' requires the ipykernel package.\n",
            "\u001b[1;31mRun the following command to install 'ipykernel' into the Python environment. \n",
            "\u001b[1;31mCommand: 'conda install -n pythonProject ipykernel --update-deps --force-reinstall'"
          ]
        }
      ],
      "source": [
        "# one-hot-encoding categorical attributes using pandas.get_dummies() function\n",
        "data_cat = pd.get_dummies(data_cat,columns=cat_col)"
      ]
    },
    {
      "cell_type": "code",
      "execution_count": null,
      "metadata": {
        "colab": {
          "base_uri": "https://localhost:8080/",
          "height": 241
        },
        "id": "UM8ooeRcNOoU",
        "outputId": "0d2b6495-7965-41ba-aa20-21563617411e"
      },
      "outputs": [
        {
          "ename": "",
          "evalue": "",
          "output_type": "error",
          "traceback": [
            "\u001b[1;31mRunning cells with 'pythonProject' requires the ipykernel package.\n",
            "\u001b[1;31mRun the following command to install 'ipykernel' into the Python environment. \n",
            "\u001b[1;31mCommand: 'conda install -n pythonProject ipykernel --update-deps --force-reinstall'"
          ]
        }
      ],
      "source": [
        "data_cat.head()"
      ]
    },
    {
      "cell_type": "code",
      "execution_count": null,
      "metadata": {
        "colab": {
          "base_uri": "https://localhost:8080/"
        },
        "id": "cHH1hw8zNYfK",
        "outputId": "3670dcc8-37e2-4244-c41a-644e8ca3b73e"
      },
      "outputs": [
        {
          "ename": "",
          "evalue": "",
          "output_type": "error",
          "traceback": [
            "\u001b[1;31mRunning cells with 'pythonProject' requires the ipykernel package.\n",
            "\u001b[1;31mRun the following command to install 'ipykernel' into the Python environment. \n",
            "\u001b[1;31mCommand: 'conda install -n pythonProject ipykernel --update-deps --force-reinstall'"
          ]
        }
      ],
      "source": [
        "data.shape"
      ]
    },
    {
      "cell_type": "code",
      "execution_count": null,
      "metadata": {
        "id": "oO6juQh4NQxL"
      },
      "outputs": [
        {
          "ename": "",
          "evalue": "",
          "output_type": "error",
          "traceback": [
            "\u001b[1;31mRunning cells with 'pythonProject' requires the ipykernel package.\n",
            "\u001b[1;31mRun the following command to install 'ipykernel' into the Python environment. \n",
            "\u001b[1;31mCommand: 'conda install -n pythonProject ipykernel --update-deps --force-reinstall'"
          ]
        }
      ],
      "source": [
        "data = pd.concat([data, data_cat],axis=1)"
      ]
    },
    {
      "cell_type": "code",
      "execution_count": null,
      "metadata": {
        "colab": {
          "base_uri": "https://localhost:8080/"
        },
        "id": "_bV3F4v9Ndo6",
        "outputId": "e12f3e3d-4ee4-4851-9374-3bfd0b3b0ba0"
      },
      "outputs": [
        {
          "ename": "",
          "evalue": "",
          "output_type": "error",
          "traceback": [
            "\u001b[1;31mRunning cells with 'pythonProject' requires the ipykernel package.\n",
            "\u001b[1;31mRun the following command to install 'ipykernel' into the Python environment. \n",
            "\u001b[1;31mCommand: 'conda install -n pythonProject ipykernel --update-deps --force-reinstall'"
          ]
        }
      ],
      "source": [
        "data.shape"
      ]
    },
    {
      "cell_type": "code",
      "execution_count": null,
      "metadata": {
        "id": "C0nK7HFmNe8w"
      },
      "outputs": [
        {
          "ename": "",
          "evalue": "",
          "output_type": "error",
          "traceback": [
            "\u001b[1;31mRunning cells with 'pythonProject' requires the ipykernel package.\n",
            "\u001b[1;31mRun the following command to install 'ipykernel' into the Python environment. \n",
            "\u001b[1;31mCommand: 'conda install -n pythonProject ipykernel --update-deps --force-reinstall'"
          ]
        }
      ],
      "source": [
        "data.drop(columns=cat_col,inplace=True)"
      ]
    },
    {
      "cell_type": "code",
      "execution_count": null,
      "metadata": {
        "colab": {
          "base_uri": "https://localhost:8080/"
        },
        "id": "o0s5ecSQNgGM",
        "outputId": "9fa262be-64fd-4695-df04-269f206be03f"
      },
      "outputs": [
        {
          "ename": "",
          "evalue": "",
          "output_type": "error",
          "traceback": [
            "\u001b[1;31mRunning cells with 'pythonProject' requires the ipykernel package.\n",
            "\u001b[1;31mRun the following command to install 'ipykernel' into the Python environment. \n",
            "\u001b[1;31mCommand: 'conda install -n pythonProject ipykernel --update-deps --force-reinstall'"
          ]
        }
      ],
      "source": [
        "data.shape"
      ]
    },
    {
      "cell_type": "markdown",
      "metadata": {
        "id": "xshMxL1Zb4hm"
      },
      "source": [
        "# **Data Normalization**\n"
      ]
    },
    {
      "cell_type": "code",
      "execution_count": null,
      "metadata": {
        "colab": {
          "base_uri": "https://localhost:8080/"
        },
        "id": "7G3s0etHwGUc",
        "outputId": "441e591d-d436-4a5f-ef71-21f4a92d03b9"
      },
      "outputs": [
        {
          "ename": "",
          "evalue": "",
          "output_type": "error",
          "traceback": [
            "\u001b[1;31mRunning cells with 'pythonProject' requires the ipykernel package.\n",
            "\u001b[1;31mRun the following command to install 'ipykernel' into the Python environment. \n",
            "\u001b[1;31mCommand: 'conda install -n pythonProject ipykernel --update-deps --force-reinstall'"
          ]
        }
      ],
      "source": [
        "# selecting numeric attributes columns from data\n",
        "num_col = list(data.select_dtypes(include='number').columns)\n",
        "# num_col.remove('id')\n",
        "num_col.remove('label')\n",
        "print(num_col)"
      ]
    },
    {
      "cell_type": "code",
      "execution_count": null,
      "metadata": {
        "id": "-phVbE8yal8w"
      },
      "outputs": [
        {
          "ename": "",
          "evalue": "",
          "output_type": "error",
          "traceback": [
            "\u001b[1;31mRunning cells with 'pythonProject' requires the ipykernel package.\n",
            "\u001b[1;31mRun the following command to install 'ipykernel' into the Python environment. \n",
            "\u001b[1;31mCommand: 'conda install -n pythonProject ipykernel --update-deps --force-reinstall'"
          ]
        }
      ],
      "source": [
        "# using minmax scaler for normalizing data\n",
        "minmax_scale = MinMaxScaler(feature_range=(0, 1))\n",
        "def normalization(df,col):\n",
        "  for i in col:\n",
        "    arr = df[i]\n",
        "    arr = np.array(arr)\n",
        "    df[i] = minmax_scale.fit_transform(arr.reshape(len(arr),1))\n",
        "  return df"
      ]
    },
    {
      "cell_type": "code",
      "execution_count": null,
      "metadata": {
        "colab": {
          "base_uri": "https://localhost:8080/",
          "height": 241
        },
        "id": "GyC-geCscBTR",
        "outputId": "4fa93447-ddf5-4431-9f11-35468442b2c8"
      },
      "outputs": [
        {
          "ename": "",
          "evalue": "",
          "output_type": "error",
          "traceback": [
            "\u001b[1;31mRunning cells with 'pythonProject' requires the ipykernel package.\n",
            "\u001b[1;31mRun the following command to install 'ipykernel' into the Python environment. \n",
            "\u001b[1;31mCommand: 'conda install -n pythonProject ipykernel --update-deps --force-reinstall'"
          ]
        }
      ],
      "source": [
        "# data before normalization\n",
        "data.head()"
      ]
    },
    {
      "cell_type": "code",
      "execution_count": null,
      "metadata": {},
      "outputs": [
        {
          "ename": "",
          "evalue": "",
          "output_type": "error",
          "traceback": [
            "\u001b[1;31mRunning cells with 'pythonProject' requires the ipykernel package.\n",
            "\u001b[1;31mRun the following command to install 'ipykernel' into the Python environment. \n",
            "\u001b[1;31mCommand: 'conda install -n pythonProject ipykernel --update-deps --force-reinstall'"
          ]
        }
      ],
      "source": [
        "num_col"
      ]
    },
    {
      "cell_type": "code",
      "execution_count": null,
      "metadata": {
        "id": "nQq5bTuscFrU"
      },
      "outputs": [
        {
          "ename": "",
          "evalue": "",
          "output_type": "error",
          "traceback": [
            "\u001b[1;31mRunning cells with 'pythonProject' requires the ipykernel package.\n",
            "\u001b[1;31mRun the following command to install 'ipykernel' into the Python environment. \n",
            "\u001b[1;31mCommand: 'conda install -n pythonProject ipykernel --update-deps --force-reinstall'"
          ]
        }
      ],
      "source": [
        "# calling normalization() function\n",
        "data = normalization(data.copy(),num_col)"
      ]
    },
    {
      "cell_type": "code",
      "execution_count": null,
      "metadata": {
        "colab": {
          "base_uri": "https://localhost:8080/",
          "height": 326
        },
        "id": "jxaw2yKYcN9X",
        "outputId": "c6f0d252-e9c1-4254-c3f4-9873b483af21"
      },
      "outputs": [
        {
          "ename": "",
          "evalue": "",
          "output_type": "error",
          "traceback": [
            "\u001b[1;31mRunning cells with 'pythonProject' requires the ipykernel package.\n",
            "\u001b[1;31mRun the following command to install 'ipykernel' into the Python environment. \n",
            "\u001b[1;31mCommand: 'conda install -n pythonProject ipykernel --update-deps --force-reinstall'"
          ]
        }
      ],
      "source": [
        "# data after normalization\n",
        "data.head()"
      ]
    },
    {
      "cell_type": "markdown",
      "metadata": {
        "id": "qhQJSg2Ka1Qb"
      },
      "source": [
        "# **Label Encoding**"
      ]
    },
    {
      "cell_type": "markdown",
      "metadata": {
        "id": "wAUCpILctlwU"
      },
      "source": [
        "## **Binary Labels**"
      ]
    },
    {
      "cell_type": "code",
      "execution_count": null,
      "metadata": {
        "id": "OGSplI_VjHR0"
      },
      "outputs": [
        {
          "ename": "",
          "evalue": "",
          "output_type": "error",
          "traceback": [
            "\u001b[1;31mRunning cells with 'pythonProject' requires the ipykernel package.\n",
            "\u001b[1;31mRun the following command to install 'ipykernel' into the Python environment. \n",
            "\u001b[1;31mCommand: 'conda install -n pythonProject ipykernel --update-deps --force-reinstall'"
          ]
        }
      ],
      "source": [
        "# changing attack labels into two categories 'normal' and 'abnormal'\n",
        "bin_label = pd.DataFrame(data.label.map(lambda x:'normal' if x==0 else 'abnormal'))"
      ]
    },
    {
      "cell_type": "code",
      "execution_count": null,
      "metadata": {
        "id": "tYJbRZ5oimGg"
      },
      "outputs": [
        {
          "ename": "",
          "evalue": "",
          "output_type": "error",
          "traceback": [
            "\u001b[1;31mRunning cells with 'pythonProject' requires the ipykernel package.\n",
            "\u001b[1;31mRun the following command to install 'ipykernel' into the Python environment. \n",
            "\u001b[1;31mCommand: 'conda install -n pythonProject ipykernel --update-deps --force-reinstall'"
          ]
        }
      ],
      "source": [
        "# creating a dataframe with binary labels (normal,abnormal)\n",
        "bin_data = data.copy()\n",
        "bin_data['label'] = bin_label"
      ]
    },
    {
      "cell_type": "code",
      "execution_count": null,
      "metadata": {
        "id": "8UvUkBqtjagH"
      },
      "outputs": [
        {
          "ename": "",
          "evalue": "",
          "output_type": "error",
          "traceback": [
            "\u001b[1;31mRunning cells with 'pythonProject' requires the ipykernel package.\n",
            "\u001b[1;31mRun the following command to install 'ipykernel' into the Python environment. \n",
            "\u001b[1;31mCommand: 'conda install -n pythonProject ipykernel --update-deps --force-reinstall'"
          ]
        }
      ],
      "source": [
        "# label encoding (0,1) binary labels\n",
        "le1 = preprocessing.LabelEncoder()\n",
        "enc_label = bin_label.apply(le1.fit_transform)\n",
        "bin_data['label'] = enc_label"
      ]
    },
    {
      "cell_type": "code",
      "execution_count": null,
      "metadata": {
        "colab": {
          "base_uri": "https://localhost:8080/"
        },
        "id": "NIe07KITjg--",
        "outputId": "b6a289a1-be51-4855-9e13-0d639bc4e8e8"
      },
      "outputs": [
        {
          "ename": "",
          "evalue": "",
          "output_type": "error",
          "traceback": [
            "\u001b[1;31mRunning cells with 'pythonProject' requires the ipykernel package.\n",
            "\u001b[1;31mRun the following command to install 'ipykernel' into the Python environment. \n",
            "\u001b[1;31mCommand: 'conda install -n pythonProject ipykernel --update-deps --force-reinstall'"
          ]
        }
      ],
      "source": [
        "le1.classes_"
      ]
    },
    {
      "cell_type": "code",
      "execution_count": null,
      "metadata": {
        "id": "Wq-XBOn7tvXl"
      },
      "outputs": [
        {
          "ename": "",
          "evalue": "",
          "output_type": "error",
          "traceback": [
            "\u001b[1;31mRunning cells with 'pythonProject' requires the ipykernel package.\n",
            "\u001b[1;31mRun the following command to install 'ipykernel' into the Python environment. \n",
            "\u001b[1;31mCommand: 'conda install -n pythonProject ipykernel --update-deps --force-reinstall'"
          ]
        }
      ],
      "source": [
        "np.save(\"le1_classes.npy\",le1.classes_,allow_pickle=True)"
      ]
    },
    {
      "cell_type": "markdown",
      "metadata": {
        "id": "zawDMFnntpRN"
      },
      "source": [
        "## **Multi-class Labels**"
      ]
    },
    {
      "cell_type": "code",
      "execution_count": null,
      "metadata": {
        "id": "5WHf2Hk5i1Tr"
      },
      "outputs": [
        {
          "ename": "",
          "evalue": "",
          "output_type": "error",
          "traceback": [
            "\u001b[1;31mRunning cells with 'pythonProject' requires the ipykernel package.\n",
            "\u001b[1;31mRun the following command to install 'ipykernel' into the Python environment. \n",
            "\u001b[1;31mCommand: 'conda install -n pythonProject ipykernel --update-deps --force-reinstall'"
          ]
        }
      ],
      "source": [
        "# one-hot-encoding attack label\n",
        "multi_data = data.copy()\n",
        "multi_label = pd.DataFrame(multi_data.attack_cat)"
      ]
    },
    {
      "cell_type": "code",
      "execution_count": null,
      "metadata": {
        "id": "bDI2osuxCVRt"
      },
      "outputs": [
        {
          "ename": "",
          "evalue": "",
          "output_type": "error",
          "traceback": [
            "\u001b[1;31mRunning cells with 'pythonProject' requires the ipykernel package.\n",
            "\u001b[1;31mRun the following command to install 'ipykernel' into the Python environment. \n",
            "\u001b[1;31mCommand: 'conda install -n pythonProject ipykernel --update-deps --force-reinstall'"
          ]
        }
      ],
      "source": [
        "multi_data = pd.get_dummies(multi_data,columns=['attack_cat'])"
      ]
    },
    {
      "cell_type": "code",
      "execution_count": null,
      "metadata": {
        "id": "8tuv1nDFj-z7"
      },
      "outputs": [
        {
          "ename": "",
          "evalue": "",
          "output_type": "error",
          "traceback": [
            "\u001b[1;31mRunning cells with 'pythonProject' requires the ipykernel package.\n",
            "\u001b[1;31mRun the following command to install 'ipykernel' into the Python environment. \n",
            "\u001b[1;31mCommand: 'conda install -n pythonProject ipykernel --update-deps --force-reinstall'"
          ]
        }
      ],
      "source": [
        "# label encoding (0,1,2,3,4,5,6,7,8) multi-class labels\n",
        "le2 = preprocessing.LabelEncoder()\n",
        "enc_label = multi_label.apply(le2.fit_transform)\n",
        "multi_data['label'] = enc_label"
      ]
    },
    {
      "cell_type": "code",
      "execution_count": null,
      "metadata": {
        "colab": {
          "base_uri": "https://localhost:8080/"
        },
        "id": "ASjsFfv-kK7T",
        "outputId": "f0b07a49-996e-4a08-d4f1-fed72fa91019"
      },
      "outputs": [
        {
          "ename": "",
          "evalue": "",
          "output_type": "error",
          "traceback": [
            "\u001b[1;31mRunning cells with 'pythonProject' requires the ipykernel package.\n",
            "\u001b[1;31mRun the following command to install 'ipykernel' into the Python environment. \n",
            "\u001b[1;31mCommand: 'conda install -n pythonProject ipykernel --update-deps --force-reinstall'"
          ]
        }
      ],
      "source": [
        "le2.classes_"
      ]
    },
    {
      "cell_type": "code",
      "execution_count": null,
      "metadata": {
        "id": "XKoH6sN8typc"
      },
      "outputs": [
        {
          "ename": "",
          "evalue": "",
          "output_type": "error",
          "traceback": [
            "\u001b[1;31mRunning cells with 'pythonProject' requires the ipykernel package.\n",
            "\u001b[1;31mRun the following command to install 'ipykernel' into the Python environment. \n",
            "\u001b[1;31mCommand: 'conda install -n pythonProject ipykernel --update-deps --force-reinstall'"
          ]
        }
      ],
      "source": [
        "np.save(\"le2_classes.npy\",le2.classes_,allow_pickle=True)"
      ]
    },
    {
      "cell_type": "markdown",
      "metadata": {
        "id": "pMT074G_cb0D"
      },
      "source": [
        "# **Correlation between features of dataset**"
      ]
    },
    {
      "cell_type": "code",
      "execution_count": null,
      "metadata": {
        "id": "lJIPk62ZiFpM"
      },
      "outputs": [
        {
          "ename": "",
          "evalue": "",
          "output_type": "error",
          "traceback": [
            "\u001b[1;31mRunning cells with 'pythonProject' requires the ipykernel package.\n",
            "\u001b[1;31mRun the following command to install 'ipykernel' into the Python environment. \n",
            "\u001b[1;31mCommand: 'conda install -n pythonProject ipykernel --update-deps --force-reinstall'"
          ]
        }
      ],
      "source": [
        "num_col.append('label')"
      ]
    },
    {
      "cell_type": "markdown",
      "metadata": {
        "id": "xf83gwJQ-fQ_"
      },
      "source": [
        "## **Correlation Matrix for Binary Labels**"
      ]
    },
    {
      "cell_type": "code",
      "execution_count": null,
      "metadata": {
        "colab": {
          "base_uri": "https://localhost:8080/",
          "height": 586
        },
        "id": "h1tV8-lTcQSF",
        "outputId": "5d1af2ca-2943-4b97-ec0f-f1bc40232331"
      },
      "outputs": [
        {
          "ename": "",
          "evalue": "",
          "output_type": "error",
          "traceback": [
            "\u001b[1;31mRunning cells with 'pythonProject' requires the ipykernel package.\n",
            "\u001b[1;31mRun the following command to install 'ipykernel' into the Python environment. \n",
            "\u001b[1;31mCommand: 'conda install -n pythonProject ipykernel --update-deps --force-reinstall'"
          ]
        }
      ],
      "source": [
        "# Correlation Matrix for Binary Labels\n",
        "plt.figure(figsize=(20,8))\n",
        "corr_bin = bin_data[num_col].corr()\n",
        "sns.heatmap(corr_bin,vmax=1.0,annot=False)\n",
        "plt.title('Correlation Matrix for Binary Labels',fontsize=16)\n",
        "plt.savefig('plots/correlation_matrix_bin.png')\n",
        "plt.show()"
      ]
    },
    {
      "cell_type": "markdown",
      "metadata": {
        "id": "vMadlBNw-xfy"
      },
      "source": [
        "## **Correlation Matrix for Multi-class Labels**"
      ]
    },
    {
      "cell_type": "code",
      "execution_count": null,
      "metadata": {
        "id": "bCq2FNRbDGVJ"
      },
      "outputs": [
        {
          "ename": "",
          "evalue": "",
          "output_type": "error",
          "traceback": [
            "\u001b[1;31mRunning cells with 'pythonProject' requires the ipykernel package.\n",
            "\u001b[1;31mRun the following command to install 'ipykernel' into the Python environment. \n",
            "\u001b[1;31mCommand: 'conda install -n pythonProject ipykernel --update-deps --force-reinstall'"
          ]
        }
      ],
      "source": [
        "num_col = list(multi_data.select_dtypes(include='number').columns)"
      ]
    },
    {
      "cell_type": "code",
      "execution_count": null,
      "metadata": {
        "colab": {
          "base_uri": "https://localhost:8080/",
          "height": 628
        },
        "id": "GGobKJQTktZW",
        "outputId": "0e76cd3b-ab5f-4c53-afff-171293a2b9ed"
      },
      "outputs": [
        {
          "ename": "",
          "evalue": "",
          "output_type": "error",
          "traceback": [
            "\u001b[1;31mRunning cells with 'pythonProject' requires the ipykernel package.\n",
            "\u001b[1;31mRun the following command to install 'ipykernel' into the Python environment. \n",
            "\u001b[1;31mCommand: 'conda install -n pythonProject ipykernel --update-deps --force-reinstall'"
          ]
        }
      ],
      "source": [
        "# Correlation Matrix for Multi-class Labels\n",
        "plt.figure(figsize=(20,8))\n",
        "corr_multi = multi_data[num_col].corr()\n",
        "sns.heatmap(corr_multi,vmax=1.0,annot=False)\n",
        "plt.title('Correlation Matrix for Multi Labels',fontsize=16)\n",
        "plt.savefig('plots/correlation_matrix_multi.png')\n",
        "plt.show()"
      ]
    },
    {
      "cell_type": "markdown",
      "metadata": {
        "id": "Xytgw98DRSyE"
      },
      "source": [
        "# **Feature Selection**"
      ]
    },
    {
      "cell_type": "markdown",
      "metadata": {
        "id": "l869k8cKvMRX"
      },
      "source": [
        "## **Binary Labels**"
      ]
    },
    {
      "cell_type": "code",
      "execution_count": null,
      "metadata": {
        "colab": {
          "base_uri": "https://localhost:8080/"
        },
        "id": "x4dyHvrhcxjk",
        "outputId": "57736cf0-d6cc-4066-fb54-93d5288d9114"
      },
      "outputs": [
        {
          "ename": "",
          "evalue": "",
          "output_type": "error",
          "traceback": [
            "\u001b[1;31mRunning cells with 'pythonProject' requires the ipykernel package.\n",
            "\u001b[1;31mRun the following command to install 'ipykernel' into the Python environment. \n",
            "\u001b[1;31mCommand: 'conda install -n pythonProject ipykernel --update-deps --force-reinstall'"
          ]
        }
      ],
      "source": [
        "# finding the attributes which have more than 0.3 correlation with encoded attack label attribute \n",
        "corr_ybin = abs(corr_bin['label'])\n",
        "highest_corr_bin = corr_ybin[corr_ybin >0.3]\n",
        "highest_corr_bin.sort_values(ascending=True)"
      ]
    },
    {
      "cell_type": "code",
      "execution_count": null,
      "metadata": {
        "colab": {
          "base_uri": "https://localhost:8080/"
        },
        "id": "DNyZzFIPk8ye",
        "outputId": "3864fd29-8350-445d-ebaa-f4f5eaf2490e"
      },
      "outputs": [
        {
          "ename": "",
          "evalue": "",
          "output_type": "error",
          "traceback": [
            "\u001b[1;31mRunning cells with 'pythonProject' requires the ipykernel package.\n",
            "\u001b[1;31mRun the following command to install 'ipykernel' into the Python environment. \n",
            "\u001b[1;31mCommand: 'conda install -n pythonProject ipykernel --update-deps --force-reinstall'"
          ]
        }
      ],
      "source": [
        "# selecting attributes found by using pearson correlation coefficient\n",
        "bin_cols = highest_corr_bin.index\n",
        "bin_cols"
      ]
    },
    {
      "cell_type": "code",
      "execution_count": null,
      "metadata": {
        "colab": {
          "base_uri": "https://localhost:8080/",
          "height": 439
        },
        "id": "6wb-harnmqYn",
        "outputId": "72b9b5c4-9328-4c6d-c099-04fd089c2b7b"
      },
      "outputs": [
        {
          "ename": "",
          "evalue": "",
          "output_type": "error",
          "traceback": [
            "\u001b[1;31mRunning cells with 'pythonProject' requires the ipykernel package.\n",
            "\u001b[1;31mRun the following command to install 'ipykernel' into the Python environment. \n",
            "\u001b[1;31mCommand: 'conda install -n pythonProject ipykernel --update-deps --force-reinstall'"
          ]
        }
      ],
      "source": [
        "# Binary labelled Dataset\n",
        "bin_data = bin_data[bin_cols].copy()\n",
        "bin_data"
      ]
    },
    {
      "cell_type": "markdown",
      "metadata": {
        "id": "o3brm_K3vhuA"
      },
      "source": [
        "### **Saving Prepared Dataset to Disk**"
      ]
    },
    {
      "cell_type": "code",
      "execution_count": null,
      "metadata": {
        "id": "lvS-G6pgvibj"
      },
      "outputs": [
        {
          "ename": "",
          "evalue": "",
          "output_type": "error",
          "traceback": [
            "\u001b[1;31mRunning cells with 'pythonProject' requires the ipykernel package.\n",
            "\u001b[1;31mRun the following command to install 'ipykernel' into the Python environment. \n",
            "\u001b[1;31mCommand: 'conda install -n pythonProject ipykernel --update-deps --force-reinstall'"
          ]
        }
      ],
      "source": [
        "bin_data.to_csv('./datasets/bin_data.csv')"
      ]
    },
    {
      "cell_type": "markdown",
      "metadata": {
        "id": "HB3FNtTQvQYo"
      },
      "source": [
        "## **Multi-class Labels**"
      ]
    },
    {
      "cell_type": "code",
      "execution_count": null,
      "metadata": {
        "colab": {
          "base_uri": "https://localhost:8080/"
        },
        "id": "aOdnkJblmUBH",
        "outputId": "a238f73a-5ff1-4bcf-f62d-680b67857502"
      },
      "outputs": [
        {
          "ename": "",
          "evalue": "",
          "output_type": "error",
          "traceback": [
            "\u001b[1;31mRunning cells with 'pythonProject' requires the ipykernel package.\n",
            "\u001b[1;31mRun the following command to install 'ipykernel' into the Python environment. \n",
            "\u001b[1;31mCommand: 'conda install -n pythonProject ipykernel --update-deps --force-reinstall'"
          ]
        }
      ],
      "source": [
        "# finding the attributes which have more than 0.3 correlation with encoded attack label attribute \n",
        "corr_ymulti = abs(corr_multi['label'])\n",
        "highest_corr_multi = corr_ymulti[corr_ymulti >0.3]\n",
        "highest_corr_multi.sort_values(ascending=True)"
      ]
    },
    {
      "cell_type": "code",
      "execution_count": null,
      "metadata": {
        "colab": {
          "base_uri": "https://localhost:8080/"
        },
        "id": "_FAU8UNYmW8R",
        "outputId": "0c4802f5-cd8f-45ad-c64f-0e94efc210fa"
      },
      "outputs": [
        {
          "ename": "",
          "evalue": "",
          "output_type": "error",
          "traceback": [
            "\u001b[1;31mRunning cells with 'pythonProject' requires the ipykernel package.\n",
            "\u001b[1;31mRun the following command to install 'ipykernel' into the Python environment. \n",
            "\u001b[1;31mCommand: 'conda install -n pythonProject ipykernel --update-deps --force-reinstall'"
          ]
        }
      ],
      "source": [
        "# selecting attributes found by using pearson correlation coefficient\n",
        "multi_cols = highest_corr_multi.index\n",
        "multi_cols"
      ]
    },
    {
      "cell_type": "code",
      "execution_count": null,
      "metadata": {
        "id": "xgz7owF_mz_P"
      },
      "outputs": [
        {
          "ename": "",
          "evalue": "",
          "output_type": "error",
          "traceback": [
            "\u001b[1;31mRunning cells with 'pythonProject' requires the ipykernel package.\n",
            "\u001b[1;31mRun the following command to install 'ipykernel' into the Python environment. \n",
            "\u001b[1;31mCommand: 'conda install -n pythonProject ipykernel --update-deps --force-reinstall'"
          ]
        }
      ],
      "source": [
        "# Multi-class labelled Dataset\n",
        "multi_data = multi_data[multi_cols].copy()\n",
        "multi_data"
      ]
    },
    {
      "cell_type": "markdown",
      "metadata": {
        "id": "vyCzRKuVvZnh"
      },
      "source": [
        "### **Saving Prepared Dataset to Disk**"
      ]
    },
    {
      "cell_type": "code",
      "execution_count": null,
      "metadata": {
        "id": "1MzHTuY0vXU_"
      },
      "outputs": [
        {
          "ename": "",
          "evalue": "",
          "output_type": "error",
          "traceback": [
            "\u001b[1;31mRunning cells with 'pythonProject' requires the ipykernel package.\n",
            "\u001b[1;31mRun the following command to install 'ipykernel' into the Python environment. \n",
            "\u001b[1;31mCommand: 'conda install -n pythonProject ipykernel --update-deps --force-reinstall'"
          ]
        }
      ],
      "source": [
        "multi_data.to_csv('./datasets/multi_data.csv')"
      ]
    },
    {
      "cell_type": "markdown",
      "metadata": {
        "id": "z376w6tkpD9q"
      },
      "source": [
        "# **BINARY CLASSIFICATION**"
      ]
    },
    {
      "cell_type": "markdown",
      "metadata": {
        "id": "53mDsRGbRbZN"
      },
      "source": [
        "## **Data Splitting**\n",
        "\n"
      ]
    },
    {
      "cell_type": "code",
      "execution_count": null,
      "metadata": {
        "id": "Y5QtFhz-sdQj"
      },
      "outputs": [
        {
          "ename": "",
          "evalue": "",
          "output_type": "error",
          "traceback": [
            "\u001b[1;31mRunning cells with 'pythonProject' requires the ipykernel package.\n",
            "\u001b[1;31mRun the following command to install 'ipykernel' into the Python environment. \n",
            "\u001b[1;31mCommand: 'conda install -n pythonProject ipykernel --update-deps --force-reinstall'"
          ]
        }
      ],
      "source": [
        "X = bin_data.drop(columns=['label'],axis=1)\n",
        "Y = bin_data['label']"
      ]
    },
    {
      "cell_type": "code",
      "execution_count": null,
      "metadata": {
        "id": "E1wQkX1Ts2Sd"
      },
      "outputs": [
        {
          "ename": "",
          "evalue": "",
          "output_type": "error",
          "traceback": [
            "\u001b[1;31mRunning cells with 'pythonProject' requires the ipykernel package.\n",
            "\u001b[1;31mRun the following command to install 'ipykernel' into the Python environment. \n",
            "\u001b[1;31mCommand: 'conda install -n pythonProject ipykernel --update-deps --force-reinstall'"
          ]
        }
      ],
      "source": [
        "X_train,X_test,y_train,y_test = train_test_split(X,Y,test_size=0.20, random_state=50)"
      ]
    },
    {
      "cell_type": "markdown",
      "metadata": {
        "id": "bfna4-Sqrlnd"
      },
      "source": [
        "## **Multi Layer Perceptron**"
      ]
    },
    {
      "cell_type": "code",
      "execution_count": null,
      "metadata": {
        "id": "EFnPJ0jMrida"
      },
      "outputs": [
        {
          "ename": "",
          "evalue": "",
          "output_type": "error",
          "traceback": [
            "\u001b[1;31mRunning cells with 'pythonProject' requires the ipykernel package.\n",
            "\u001b[1;31mRun the following command to install 'ipykernel' into the Python environment. \n",
            "\u001b[1;31mCommand: 'conda install -n pythonProject ipykernel --update-deps --force-reinstall'"
          ]
        }
      ],
      "source": [
        "mlp_bin = MLPClassifier(random_state=123, solver='adam', max_iter=8000)"
      ]
    },
    {
      "cell_type": "code",
      "execution_count": null,
      "metadata": {
        "colab": {
          "base_uri": "https://localhost:8080/"
        },
        "id": "aYh14lDyrkgv",
        "outputId": "16e62352-2dde-4a34-ade2-26891e9c9228"
      },
      "outputs": [
        {
          "ename": "",
          "evalue": "",
          "output_type": "error",
          "traceback": [
            "\u001b[1;31mRunning cells with 'pythonProject' requires the ipykernel package.\n",
            "\u001b[1;31mRun the following command to install 'ipykernel' into the Python environment. \n",
            "\u001b[1;31mCommand: 'conda install -n pythonProject ipykernel --update-deps --force-reinstall'"
          ]
        }
      ],
      "source": [
        "mlp_bin.fit(X_train,y_train)"
      ]
    },
    {
      "cell_type": "code",
      "execution_count": null,
      "metadata": {
        "id": "YV1HgxZ3smNo"
      },
      "outputs": [
        {
          "ename": "",
          "evalue": "",
          "output_type": "error",
          "traceback": [
            "\u001b[1;31mRunning cells with 'pythonProject' requires the ipykernel package.\n",
            "\u001b[1;31mRun the following command to install 'ipykernel' into the Python environment. \n",
            "\u001b[1;31mCommand: 'conda install -n pythonProject ipykernel --update-deps --force-reinstall'"
          ]
        }
      ],
      "source": [
        "y_pred = mlp_bin.predict(X_test)"
      ]
    },
    {
      "cell_type": "code",
      "execution_count": null,
      "metadata": {
        "colab": {
          "base_uri": "https://localhost:8080/"
        },
        "id": "TSi3T41e7n7G",
        "outputId": "32c93fdc-efde-4eeb-9ecb-b9cb9a4ccb8c"
      },
      "outputs": [
        {
          "ename": "",
          "evalue": "",
          "output_type": "error",
          "traceback": [
            "\u001b[1;31mRunning cells with 'pythonProject' requires the ipykernel package.\n",
            "\u001b[1;31mRun the following command to install 'ipykernel' into the Python environment. \n",
            "\u001b[1;31mCommand: 'conda install -n pythonProject ipykernel --update-deps --force-reinstall'"
          ]
        }
      ],
      "source": [
        "print(\"Mean Absolute Error - \" , metrics.mean_absolute_error(y_test, y_pred))\n",
        "print(\"Mean Squared Error - \" , metrics.mean_squared_error(y_test, y_pred))\n",
        "print(\"Root Mean Squared Error - \" , np.sqrt(metrics.mean_squared_error(y_test, y_pred)))\n",
        "print(\"R2 Score - \" , metrics.explained_variance_score(y_test, y_pred)*100)\n",
        "print(\"Accuracy - \",accuracy_score(y_test,y_pred)*100)"
      ]
    },
    {
      "cell_type": "code",
      "execution_count": null,
      "metadata": {
        "colab": {
          "base_uri": "https://localhost:8080/"
        },
        "id": "Mfi5oF8p7qyU",
        "outputId": "a35ab5af-7988-4a44-f85c-848a93c9b558"
      },
      "outputs": [
        {
          "ename": "",
          "evalue": "",
          "output_type": "error",
          "traceback": [
            "\u001b[1;31mRunning cells with 'pythonProject' requires the ipykernel package.\n",
            "\u001b[1;31mRun the following command to install 'ipykernel' into the Python environment. \n",
            "\u001b[1;31mCommand: 'conda install -n pythonProject ipykernel --update-deps --force-reinstall'"
          ]
        }
      ],
      "source": [
        "cls_report= classification_report(y_true=y_test, y_pred=y_pred,target_names=le1.classes_)\n",
        "print(cls_report)"
      ]
    },
    {
      "cell_type": "markdown",
      "metadata": {
        "id": "B7waKkyC10Eo"
      },
      "source": [
        "### **Real and Predicted Data**"
      ]
    },
    {
      "cell_type": "code",
      "execution_count": null,
      "metadata": {
        "colab": {
          "base_uri": "https://localhost:8080/",
          "height": 419
        },
        "id": "pPPPTAa0HkL4",
        "outputId": "4d488372-75e6-496c-e530-beb81f4a6e76"
      },
      "outputs": [
        {
          "ename": "",
          "evalue": "",
          "output_type": "error",
          "traceback": [
            "\u001b[1;31mRunning cells with 'pythonProject' requires the ipykernel package.\n",
            "\u001b[1;31mRun the following command to install 'ipykernel' into the Python environment. \n",
            "\u001b[1;31mCommand: 'conda install -n pythonProject ipykernel --update-deps --force-reinstall'"
          ]
        }
      ],
      "source": [
        "mlp_bin_df = pd.DataFrame({'Actual': y_test, 'Predicted': y_pred})\n",
        "mlp_bin_df.to_csv('./predictions/mlp_real_pred_bin.csv')\n",
        "mlp_bin_df"
      ]
    },
    {
      "cell_type": "markdown",
      "metadata": {
        "id": "4ukPfXeNuXlt"
      },
      "source": [
        "### **Plot between Real and Predicted Data**"
      ]
    },
    {
      "cell_type": "code",
      "execution_count": null,
      "metadata": {
        "colab": {
          "base_uri": "https://localhost:8080/",
          "height": 390
        },
        "id": "DvES4DMlLltC",
        "outputId": "1d49b896-6d6a-49e5-f762-187dccbdba76"
      },
      "outputs": [
        {
          "ename": "",
          "evalue": "",
          "output_type": "error",
          "traceback": [
            "\u001b[1;31mRunning cells with 'pythonProject' requires the ipykernel package.\n",
            "\u001b[1;31mRun the following command to install 'ipykernel' into the Python environment. \n",
            "\u001b[1;31mCommand: 'conda install -n pythonProject ipykernel --update-deps --force-reinstall'"
          ]
        }
      ],
      "source": [
        "plt.figure(figsize=(20,8))\n",
        "plt.plot(y_pred[100:200], label=\"prediction\", linewidth=2.0,color='blue')\n",
        "plt.plot(y_test[100:200].values, label=\"real_values\", linewidth=2.0,color='lightcoral')\n",
        "plt.legend(loc=\"best\")\n",
        "plt.title(\"MLP Binary Classification\")\n",
        "plt.savefig('plots/mlp_real_pred_bin.png')\n",
        "plt.show()"
      ]
    },
    {
      "cell_type": "markdown",
      "metadata": {
        "id": "WL91l4ZnKBvx"
      },
      "source": [
        "### **Saving Trained Model to Disk**"
      ]
    },
    {
      "cell_type": "code",
      "execution_count": null,
      "metadata": {
        "colab": {
          "base_uri": "https://localhost:8080/"
        },
        "id": "S83LGGk-105t",
        "outputId": "c5442975-fa75-4e40-844f-f8be741a308f"
      },
      "outputs": [
        {
          "ename": "",
          "evalue": "",
          "output_type": "error",
          "traceback": [
            "\u001b[1;31mRunning cells with 'pythonProject' requires the ipykernel package.\n",
            "\u001b[1;31mRun the following command to install 'ipykernel' into the Python environment. \n",
            "\u001b[1;31mCommand: 'conda install -n pythonProject ipykernel --update-deps --force-reinstall'"
          ]
        }
      ],
      "source": [
        "pkl_filename = \"./models/mlp_binary.pkl\"\n",
        "if (not path.isfile(pkl_filename)):\n",
        "  # saving the trained model to disk \n",
        "  with open(pkl_filename, 'wb') as file:\n",
        "    pickle.dump(mlp_bin, file)\n",
        "  print(\"Saved model to disk\")\n",
        "else:\n",
        "  print(\"Model already saved\")"
      ]
    },
    {
      "cell_type": "markdown",
      "metadata": {
        "id": "dAp-zYDca51a"
      },
      "source": [
        "# **MULTI-CLASS CLASSIFICATION**"
      ]
    },
    {
      "cell_type": "markdown",
      "metadata": {
        "id": "iuVmJkcnpu43"
      },
      "source": [
        "## **Data Splitting**"
      ]
    },
    {
      "cell_type": "code",
      "execution_count": null,
      "metadata": {
        "id": "_3N5t_lsxya-"
      },
      "outputs": [
        {
          "ename": "",
          "evalue": "",
          "output_type": "error",
          "traceback": [
            "\u001b[1;31mRunning cells with 'pythonProject' requires the ipykernel package.\n",
            "\u001b[1;31mRun the following command to install 'ipykernel' into the Python environment. \n",
            "\u001b[1;31mCommand: 'conda install -n pythonProject ipykernel --update-deps --force-reinstall'"
          ]
        }
      ],
      "source": [
        "X = multi_data.drop(columns=['label'],axis=1)\n",
        "Y = multi_data['label']"
      ]
    },
    {
      "cell_type": "code",
      "execution_count": null,
      "metadata": {
        "id": "LXynuoh1dKmS"
      },
      "outputs": [
        {
          "ename": "",
          "evalue": "",
          "output_type": "error",
          "traceback": [
            "\u001b[1;31mRunning cells with 'pythonProject' requires the ipykernel package.\n",
            "\u001b[1;31mRun the following command to install 'ipykernel' into the Python environment. \n",
            "\u001b[1;31mCommand: 'conda install -n pythonProject ipykernel --update-deps --force-reinstall'"
          ]
        }
      ],
      "source": [
        "X_train,X_test,y_train,y_test = train_test_split(X,Y,test_size=0.30, random_state=100)"
      ]
    },
    {
      "cell_type": "markdown",
      "metadata": {
        "id": "amETgFohDwmM"
      },
      "source": [
        "## **Multi Layer Perceptron**"
      ]
    },
    {
      "cell_type": "code",
      "execution_count": null,
      "metadata": {
        "colab": {
          "base_uri": "https://localhost:8080/"
        },
        "id": "RFXDdM37ypX9",
        "outputId": "d30c50bc-7757-40e8-fe7e-2cc15e6d808f"
      },
      "outputs": [
        {
          "ename": "",
          "evalue": "",
          "output_type": "error",
          "traceback": [
            "\u001b[1;31mRunning cells with 'pythonProject' requires the ipykernel package.\n",
            "\u001b[1;31mRun the following command to install 'ipykernel' into the Python environment. \n",
            "\u001b[1;31mCommand: 'conda install -n pythonProject ipykernel --update-deps --force-reinstall'"
          ]
        }
      ],
      "source": [
        "mlp_multi = MLPClassifier(random_state=123, solver='adam', max_iter=8000)\n",
        "mlp_multi.fit(X_train,y_train)"
      ]
    },
    {
      "cell_type": "code",
      "execution_count": null,
      "metadata": {
        "id": "T4bcnbjLx_oe"
      },
      "outputs": [
        {
          "ename": "",
          "evalue": "",
          "output_type": "error",
          "traceback": [
            "\u001b[1;31mRunning cells with 'pythonProject' requires the ipykernel package.\n",
            "\u001b[1;31mRun the following command to install 'ipykernel' into the Python environment. \n",
            "\u001b[1;31mCommand: 'conda install -n pythonProject ipykernel --update-deps --force-reinstall'"
          ]
        }
      ],
      "source": [
        "y_pred = mlp_multi.predict(X_test)"
      ]
    },
    {
      "cell_type": "code",
      "execution_count": null,
      "metadata": {
        "colab": {
          "base_uri": "https://localhost:8080/"
        },
        "id": "NbFUJ7FQxdex",
        "outputId": "b57c9fc2-c8fc-440a-b1d0-e74187ae783b"
      },
      "outputs": [
        {
          "ename": "",
          "evalue": "",
          "output_type": "error",
          "traceback": [
            "\u001b[1;31mRunning cells with 'pythonProject' requires the ipykernel package.\n",
            "\u001b[1;31mRun the following command to install 'ipykernel' into the Python environment. \n",
            "\u001b[1;31mCommand: 'conda install -n pythonProject ipykernel --update-deps --force-reinstall'"
          ]
        }
      ],
      "source": [
        "print(\"Mean Absolute Error - \" , metrics.mean_absolute_error(y_test, y_pred))\n",
        "print(\"Mean Squared Error - \" , metrics.mean_squared_error(y_test, y_pred))\n",
        "print(\"Root Mean Squared Error - \" , np.sqrt(metrics.mean_squared_error(y_test, y_pred)))\n",
        "print(\"R2 Score - \" , metrics.explained_variance_score(y_test, y_pred)*100)\n",
        "print(\"Accuracy - \",accuracy_score(y_test,y_pred)*100)"
      ]
    },
    {
      "cell_type": "code",
      "execution_count": null,
      "metadata": {
        "colab": {
          "base_uri": "https://localhost:8080/"
        },
        "id": "RPqT-o3Yxq6b",
        "outputId": "b16d8a50-f2d4-4513-9fea-667d1998132b"
      },
      "outputs": [
        {
          "ename": "",
          "evalue": "",
          "output_type": "error",
          "traceback": [
            "\u001b[1;31mRunning cells with 'pythonProject' requires the ipykernel package.\n",
            "\u001b[1;31mRun the following command to install 'ipykernel' into the Python environment. \n",
            "\u001b[1;31mCommand: 'conda install -n pythonProject ipykernel --update-deps --force-reinstall'"
          ]
        }
      ],
      "source": [
        "print(classification_report(y_test, y_pred,target_names=le2.classes_))"
      ]
    },
    {
      "cell_type": "markdown",
      "metadata": {
        "id": "j4HicS6Buvad"
      },
      "source": [
        "### **Real and Predicted Data**"
      ]
    },
    {
      "cell_type": "code",
      "execution_count": null,
      "metadata": {
        "colab": {
          "base_uri": "https://localhost:8080/",
          "height": 419
        },
        "id": "1T2K5uR4E-ck",
        "outputId": "3db7fd22-11e6-4891-86d4-d0598eb5ab26"
      },
      "outputs": [
        {
          "ename": "",
          "evalue": "",
          "output_type": "error",
          "traceback": [
            "\u001b[1;31mRunning cells with 'pythonProject' requires the ipykernel package.\n",
            "\u001b[1;31mRun the following command to install 'ipykernel' into the Python environment. \n",
            "\u001b[1;31mCommand: 'conda install -n pythonProject ipykernel --update-deps --force-reinstall'"
          ]
        }
      ],
      "source": [
        "mlp_multi_df = pd.DataFrame({'Actual': y_test, 'Predicted': y_pred})\n",
        "mlp_multi_df.to_csv('./predictions/mlp_real_pred_multi.csv')\n",
        "mlp_multi_df"
      ]
    },
    {
      "cell_type": "markdown",
      "metadata": {
        "id": "Cu3nmXN8urhm"
      },
      "source": [
        "### **Plot between Real and Predicted Data**"
      ]
    },
    {
      "cell_type": "code",
      "execution_count": null,
      "metadata": {
        "colab": {
          "base_uri": "https://localhost:8080/",
          "height": 499
        },
        "id": "imR3859hMUUL",
        "outputId": "28666123-b461-4e42-bf0e-95a06ee47cf0"
      },
      "outputs": [
        {
          "ename": "",
          "evalue": "",
          "output_type": "error",
          "traceback": [
            "\u001b[1;31mRunning cells with 'pythonProject' requires the ipykernel package.\n",
            "\u001b[1;31mRun the following command to install 'ipykernel' into the Python environment. \n",
            "\u001b[1;31mCommand: 'conda install -n pythonProject ipykernel --update-deps --force-reinstall'"
          ]
        }
      ],
      "source": [
        "plt.figure(figsize=(20,8))\n",
        "plt.plot(y_pred[100:300], label=\"prediction\", linewidth=2.0,color='blue')\n",
        "plt.plot(y_test[100:300].values, label=\"real_values\", linewidth=2.0,color='lightcoral')\n",
        "plt.legend(loc=\"best\")\n",
        "plt.title(\"MLP Multi-class Classification\")\n",
        "plt.savefig('plots/mlp_real_pred_multi.png')\n",
        "plt.show()"
      ]
    },
    {
      "cell_type": "markdown",
      "metadata": {
        "id": "lw6FcY0bKNdR"
      },
      "source": [
        "### **Saving Trained Model to Disk**"
      ]
    },
    {
      "cell_type": "code",
      "execution_count": null,
      "metadata": {
        "colab": {
          "base_uri": "https://localhost:8080/"
        },
        "id": "DEZFlsG1D3je",
        "outputId": "0ace839c-178a-43f5-c3b0-178747a30ae8"
      },
      "outputs": [
        {
          "ename": "",
          "evalue": "",
          "output_type": "error",
          "traceback": [
            "\u001b[1;31mRunning cells with 'pythonProject' requires the ipykernel package.\n",
            "\u001b[1;31mRun the following command to install 'ipykernel' into the Python environment. \n",
            "\u001b[1;31mCommand: 'conda install -n pythonProject ipykernel --update-deps --force-reinstall'"
          ]
        }
      ],
      "source": [
        "pkl_filename = \"./models/mlp_multi.pkl\"\n",
        "if (not path.isfile(pkl_filename)):\n",
        "  # saving the trained model to disk \n",
        "  with open(pkl_filename, 'wb') as file:\n",
        "    pickle.dump(mlp_multi, file)\n",
        "  print(\"Saved model to disk\")\n",
        "else:\n",
        "  print(\"Model already saved\")"
      ]
    },
    {
      "cell_type": "markdown",
      "metadata": {},
      "source": [
        "## Convolutional Nueral Network (CNN)"
      ]
    },
    {
      "cell_type": "code",
      "execution_count": null,
      "metadata": {},
      "outputs": [
        {
          "ename": "",
          "evalue": "",
          "output_type": "error",
          "traceback": [
            "\u001b[1;31mRunning cells with 'pythonProject' requires the ipykernel package.\n",
            "\u001b[1;31mRun the following command to install 'ipykernel' into the Python environment. \n",
            "\u001b[1;31mCommand: 'conda install -n pythonProject ipykernel --update-deps --force-reinstall'"
          ]
        }
      ],
      "source": [
        "from keras.models import Sequential\n",
        "from keras.layers import Dense, Conv1D, Flatten, MaxPooling1D, Dropout\n",
        "from keras.utils import to_categorical\n",
        "from sklearn.model_selection import train_test_split\n",
        "import pandas as pd\n",
        "import numpy as np\n",
        "\n",
        "# Prepare the dataset\n",
        "X = multi_data.drop(columns=['label'], axis=1)\n",
        "Y = multi_data['label']\n",
        "Y_categorical = to_categorical(Y)\n",
        "X_train, X_test, y_train, y_test = train_test_split(X, Y_categorical, test_size=0.30, random_state=100)\n",
        "\n",
        "# Reshape X_train and X_test for CNN\n",
        "X_train_reshaped = X_train.values.reshape(X_train.shape[0], X_train.shape[1], 1)\n",
        "X_test_reshaped = X_test.values.reshape(X_test.shape[0], X_test.shape[1], 1)\n",
        "\n",
        "# Define the CNN model\n",
        "model = Sequential()\n",
        "model.add(Conv1D(32, kernel_size=3, activation='relu', input_shape=(X_train_reshaped.shape[1], 1)))\n",
        "model.add(MaxPooling1D(pool_size=2))\n",
        "model.add(Conv1D(64, kernel_size=3, activation='relu'))\n",
        "model.add(MaxPooling1D(pool_size=2))\n",
        "model.add(Flatten())\n",
        "model.add(Dense(128, activation='relu'))\n",
        "model.add(Dropout(0.5))\n",
        "model.add(Dense(y_train.shape[1], activation='softmax'))\n",
        "\n",
        "# Compile the model\n",
        "model.compile(loss='categorical_crossentropy', optimizer='adam', metrics=['accuracy'])\n",
        "\n",
        "# Fit the model\n",
        "model.fit(X_train_reshaped, y_train, epochs=10, batch_size=64, validation_split=0.2)\n",
        "\n",
        "# Evaluate the model\n",
        "y_pred_categorical = model.predict(X_test_reshaped)\n",
        "y_pred = np.argmax(y_pred_categorical, axis=1)\n",
        "y_test_labels = np.argmax(y_test, axis=1)\n",
        "print(classification_report(y_test_labels, y_pred))\n"
      ]
    },
    {
      "cell_type": "code",
      "execution_count": null,
      "metadata": {},
      "outputs": [
        {
          "ename": "",
          "evalue": "",
          "output_type": "error",
          "traceback": [
            "\u001b[1;31mRunning cells with 'pythonProject' requires the ipykernel package.\n",
            "\u001b[1;31mRun the following command to install 'ipykernel' into the Python environment. \n",
            "\u001b[1;31mCommand: 'conda install -n pythonProject ipykernel --update-deps --force-reinstall'"
          ]
        }
      ],
      "source": [
        "# from keras.models import Sequential\n",
        "# from keras.layers import Dense, Conv1D, MaxPooling1D, Flatten, Dropout, LeakyReLU, Reshape\n",
        "# from keras.utils import to_categorical\n",
        "# from sklearn.model_selection import train_test_split\n",
        "# import numpy as np\n",
        "# import pandas as pd\n",
        "# from sklearn.metrics import classification_report\n",
        "\n",
        "# # Prepare the dataset\n",
        "# X = multi_data.drop(columns=['label'], axis=1)\n",
        "# Y = multi_data['label']\n",
        "# Y_categorical = to_categorical(Y)\n",
        "# X_train, X_test, y_train, y_test = train_test_split(X, Y_categorical, test_size=0.30, random_state=100)\n",
        "\n",
        "# # Reshape X_train and X_test for CNN\n",
        "# X_train_reshaped = X_train.values.reshape(X_train.shape[0], X_train.shape[1], 1)\n",
        "# X_test_reshaped = X_test.values.reshape(X_test.shape[0], X_test.shape[1], 1)\n",
        "\n",
        "# # Define the CNN model\n",
        "# model = Sequential()\n",
        "\n",
        "# # Add the layers as specified\n",
        "# model.add(Conv1D(16, kernel_size=3, strides=1, input_shape=(X_train_reshaped.shape[1], 1)))\n",
        "# model.add(LeakyReLU(alpha=0.1))\n",
        "# model.add(MaxPooling1D(pool_size=1, strides=1))\n",
        "\n",
        "# model.add(Conv1D(32, kernel_size=3, strides=1))\n",
        "# model.add(LeakyReLU(alpha=0.1))\n",
        "# model.add(MaxPooling1D(pool_size=1, strides=1))\n",
        "\n",
        "# model.add(Conv1D(64, kernel_size=3, strides=1))\n",
        "# model.add(LeakyReLU(alpha=0.1))\n",
        "# model.add(MaxPooling1D(pool_size=1, strides=1))\n",
        "\n",
        "# model.add(Conv1D(128, kernel_size=3, strides=1))\n",
        "# model.add(LeakyReLU(alpha=0.1))\n",
        "# model.add(MaxPooling1D(pool_size=1, strides=1))\n",
        "\n",
        "# model.add(Conv1D(128, kernel_size=3, strides=1))\n",
        "# model.add(LeakyReLU(alpha=0.1))\n",
        "# model.add(MaxPooling1D(pool_size=1, strides=1))\n",
        "\n",
        "# # Dense Layer\n",
        "# model.add(Flatten())\n",
        "# model.add(Dense(128, activation='linear'))\n",
        "\n",
        "# # Continue adding layers as specified\n",
        "# model.add(Reshape((128, 1)))  # Necessary for applying Conv1D after Dense layer\n",
        "# model.add(Conv1D(256, kernel_size=3, strides=1))\n",
        "# model.add(LeakyReLU(alpha=0.1))\n",
        "# model.add(MaxPooling1D(pool_size=1, strides=1))\n",
        "\n",
        "# model.add(Conv1D(512, kernel_size=3, strides=1))\n",
        "# model.add(LeakyReLU(alpha=0.1))\n",
        "# model.add(MaxPooling1D(pool_size=1, strides=1))\n",
        "\n",
        "# model.add(Conv1D(1024, kernel_size=3, strides=1))\n",
        "# model.add(LeakyReLU(alpha=0.1))\n",
        "# model.add(MaxPooling1D(pool_size=1, strides=1))\n",
        "\n",
        "# # Another Dense Layer\n",
        "# model.add(Flatten())\n",
        "# model.add(Dense(1024, activation='linear'))\n",
        "\n",
        "# # Last Convolutional Layer\n",
        "# model.add(Reshape((1024, 1)))\n",
        "# model.add(Conv1D(64, kernel_size=3, strides=1))\n",
        "# model.add(LeakyReLU(alpha=0.1))\n",
        "\n",
        "# # Flatten and Dropout\n",
        "# model.add(Flatten())\n",
        "# model.add(Dropout(0.1))\n",
        "\n",
        "# # Output Layer\n",
        "# model.add(Dense(y_train.shape[1], activation='softmax'))\n",
        "\n",
        "# # Compile the model\n",
        "# model.compile(loss='categorical_crossentropy', optimizer='adam', metrics=['accuracy'])\n",
        "\n",
        "# # Fit the model\n",
        "# model.fit(X_train_reshaped, y_train, epochs=10, batch_size=64, validation_split=0.2)\n",
        "\n",
        "# # Evaluate the model\n",
        "# y_pred_categorical = model.predict(X_test_reshaped)\n",
        "# y_pred = np.argmax(y_pred_categorical, axis=1)\n",
        "# y_test_labels = np.argmax(y_test, axis=1)\n",
        "# print(classification_report(y_test_labels, y_pred))\n"
      ]
    },
    {
      "cell_type": "code",
      "execution_count": null,
      "metadata": {},
      "outputs": [
        {
          "ename": "",
          "evalue": "",
          "output_type": "error",
          "traceback": [
            "\u001b[1;31mRunning cells with 'pythonProject' requires the ipykernel package.\n",
            "\u001b[1;31mRun the following command to install 'ipykernel' into the Python environment. \n",
            "\u001b[1;31mCommand: 'conda install -n pythonProject ipykernel --update-deps --force-reinstall'"
          ]
        }
      ],
      "source": []
    }
  ],
  "metadata": {
    "colab": {
      "collapsed_sections": [],
      "name": "Copy of iotml.ipynb",
      "provenance": []
    },
    "kernelspec": {
      "display_name": "Python 3",
      "name": "python3"
    },
    "language_info": {
      "codemirror_mode": {
        "name": "ipython",
        "version": 3
      },
      "file_extension": ".py",
      "mimetype": "text/x-python",
      "name": "python",
      "nbconvert_exporter": "python",
      "pygments_lexer": "ipython3",
      "version": "3.11.5"
    }
  },
  "nbformat": 4,
  "nbformat_minor": 0
}
